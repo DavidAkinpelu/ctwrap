{
 "cells": [
  {
   "cell_type": "markdown",
   "metadata": {},
   "source": [
    "# Adiabatic Flame Example\n",
    "\n",
    "This example uses `ctwrap` for one-dimensional adiabatic premixed flame simulations defined by the simulation module `adiabatic_flame` (`ctwrap.modules.adiabatic_flame`)."
   ]
  },
  {
   "cell_type": "markdown",
   "metadata": {},
   "source": [
    "## 1. Function/Class Definitions"
   ]
  },
  {
   "cell_type": "code",
   "execution_count": 1,
   "metadata": {},
   "outputs": [
    {
     "name": "stdout",
     "output_type": "stream",
     "text": [
      "env: OMP_NUM_THREADS=1\n"
     ]
    }
   ],
   "source": [
    "%env OMP_NUM_THREADS=1"
   ]
  },
  {
   "cell_type": "code",
   "execution_count": 2,
   "metadata": {},
   "outputs": [],
   "source": [
    "import cantera as ct\n",
    "import ctwrap as cw"
   ]
  },
  {
   "cell_type": "markdown",
   "metadata": {},
   "source": [
    "## 2. Simulations"
   ]
  },
  {
   "cell_type": "markdown",
   "metadata": {},
   "source": [
    "### 2.1 Create Simulation Object\n",
    "\n",
    "Uses a module in the `modules` folder. Modules do not have to depend on `ctwrap`."
   ]
  },
  {
   "cell_type": "code",
   "execution_count": 3,
   "metadata": {},
   "outputs": [
    {
     "data": {
      "text/plain": [
       "<ctwrap.simulation.AdiabaticFlame at 0x7fdd4493dcf8>"
      ]
     },
     "execution_count": 3,
     "metadata": {},
     "output_type": "execute_result"
    }
   ],
   "source": [
    "sim = cw.Simulation.from_module(cw.modules.adiabatic_flame)\n",
    "sim"
   ]
  },
  {
   "cell_type": "code",
   "execution_count": 4,
   "metadata": {},
   "outputs": [
    {
     "name": "stdout",
     "output_type": "stream",
     "text": [
      "    defaults: mixture-averaged flamespeed = 0.711265 m/s\n",
      "    defaults: multi-component flamespeed  = 0.727009 m/s\n",
      "CPU times: user 338 ms, sys: 24.8 ms, total: 363 ms\n",
      "Wall time: 386 ms\n"
     ]
    }
   ],
   "source": [
    "%%time\n",
    "sim.run()"
   ]
  },
  {
   "cell_type": "markdown",
   "metadata": {},
   "source": [
    "### 2.2 Create Simulation Handler"
   ]
  },
  {
   "cell_type": "code",
   "execution_count": 5,
   "metadata": {},
   "outputs": [
    {
     "name": "stdout",
     "output_type": "stream",
     "text": [
      "Simulations for entry `upstream.phi` with values: [0.4, 0.6, 0.8, 1.0, 1.2, 1.4, 1.6, 1.8, 2.0, 2.2, 2.4, 2.6]\n"
     ]
    },
    {
     "data": {
      "text/plain": [
       "<ctwrap.simulation.SimulationHandler at 0x7fdd681792e8>"
      ]
     },
     "execution_count": 5,
     "metadata": {},
     "output_type": "execute_result"
    }
   ],
   "source": [
    "s = cw.SimulationHandler.from_yaml('adiabatic_flame.yaml', verbosity=1)\n",
    "s"
   ]
  },
  {
   "cell_type": "markdown",
   "metadata": {},
   "source": [
    "### 2.3 Run Simulation Tasks in Parallel"
   ]
  },
  {
   "cell_type": "code",
   "execution_count": 6,
   "metadata": {},
   "outputs": [
    {
     "name": "stdout",
     "output_type": "stream",
     "text": [
      "    upstream.phi_0.6: mixture-averaged flamespeed = 0.924047 m/s\n",
      "    upstream.phi_0.8: mixture-averaged flamespeed = 1.735133 m/s\n",
      "    upstream.phi_0.6: multi-component flamespeed  = 0.934704 m/s\n",
      "    upstream.phi_0.8: multi-component flamespeed  = 1.720514 m/s\n",
      "    upstream.phi_1.0: mixture-averaged flamespeed = 2.322010 m/s\n",
      "    upstream.phi_0.4: mixture-averaged flamespeed = 0.201058 m/s\n",
      "    upstream.phi_1.0: multi-component flamespeed  = 2.289856 m/s\n",
      "    upstream.phi_0.4: multi-component flamespeed  = 0.215256 m/s\n",
      "    upstream.phi_1.2: mixture-averaged flamespeed = 2.716045 m/s\n",
      "    upstream.phi_1.4: mixture-averaged flamespeed = 2.951101 m/s\n",
      "    upstream.phi_1.2: multi-component flamespeed  = 2.671883 m/s\n",
      "    upstream.phi_1.4: multi-component flamespeed  = 2.899580 m/s\n",
      "    upstream.phi_1.8: mixture-averaged flamespeed = 3.045410 m/s\n",
      "    upstream.phi_1.8: multi-component flamespeed  = 2.992115 m/s\n",
      "    upstream.phi_1.6: mixture-averaged flamespeed = 3.051486 m/s\n",
      "    upstream.phi_1.6: multi-component flamespeed  = 2.997080 m/s\n",
      "    upstream.phi_2.0: mixture-averaged flamespeed = 2.973896 m/s\n",
      "    upstream.phi_2.0: multi-component flamespeed  = 2.924909 m/s\n",
      "    upstream.phi_2.2: mixture-averaged flamespeed = 2.860158 m/s\n",
      "    upstream.phi_2.2: multi-component flamespeed  = 2.817677 m/s\n",
      "    upstream.phi_2.4: mixture-averaged flamespeed = 2.726736 m/s\n",
      "    upstream.phi_2.4: multi-component flamespeed  = 2.691135 m/s\n",
      "    upstream.phi_2.6: mixture-averaged flamespeed = 2.586489 m/s\n",
      "    upstream.phi_2.6: multi-component flamespeed  = 2.558451 m/s\n",
      "CPU times: user 17.8 ms, sys: 19 ms, total: 36.8 ms\n",
      "Wall time: 2.69 s\n"
     ]
    },
    {
     "data": {
      "text/plain": [
       "True"
      ]
     },
     "execution_count": 6,
     "metadata": {},
     "output_type": "execute_result"
    }
   ],
   "source": [
    "%%time\n",
    "s.run_parallel(sim, verbosity=0)"
   ]
  },
  {
   "cell_type": "markdown",
   "metadata": {},
   "source": [
    "## 3. Create Graphical Output"
   ]
  },
  {
   "cell_type": "code",
   "execution_count": 7,
   "metadata": {},
   "outputs": [],
   "source": [
    "import matplotlib.pyplot as plt\n",
    "import matplotlib as mpl\n",
    "\n",
    "col = mpl.rcParams['axes.prop_cycle'].by_key()['color']\n",
    "n_col = len(col)"
   ]
  },
  {
   "cell_type": "markdown",
   "metadata": {},
   "source": [
    "### 3.1 Load Data"
   ]
  },
  {
   "cell_type": "code",
   "execution_count": 8,
   "metadata": {},
   "outputs": [],
   "source": [
    "# load data from output file\n",
    "data = cw.fileio.from_hdf(s.output_name)\n",
    "# data.keys()"
   ]
  },
  {
   "cell_type": "code",
   "execution_count": 9,
   "metadata": {},
   "outputs": [],
   "source": [
    "mix = {k.split('<')[0]: data[k] for k in data if 'mix' in k}\n",
    "mlt = {k.split('<')[0]: data[k] for k in data if 'multi' in k}\n",
    "\n",
    "tasks = data.get('variation')['tasks']\n",
    "phi = data.get('variation')['values']\n",
    "# tasks, phi"
   ]
  },
  {
   "cell_type": "code",
   "execution_count": 10,
   "metadata": {},
   "outputs": [],
   "source": [
    "up = data.get('defaults')['upstream']\n",
    "# up"
   ]
  },
  {
   "cell_type": "markdown",
   "metadata": {},
   "source": [
    "### 3.2 Plot\n",
    "\n",
    "Plot flame speeds and temperature profiles"
   ]
  },
  {
   "cell_type": "code",
   "execution_count": 11,
   "metadata": {},
   "outputs": [
    {
     "data": {
      "image/png": "[encoded data removed]",
      "text/plain": [
       "<Figure size 432x288 with 1 Axes>"
      ]
     },
     "metadata": {
      "needs_background": "light"
     },
     "output_type": "display_data"
    }
   ],
   "source": [
    "# create figure\n",
    "fig, ax = plt.subplots(1)\n",
    "\n",
    "# plot results\n",
    "u_mix = [ mix[t]['u (m/s)'][0] for t in tasks]\n",
    "u_mlt = [ mlt[t]['u (m/s)'][0] for t in tasks]\n",
    "\n",
    "ax.plot(phi, u_mix, marker='o', \n",
    "            linestyle='none', label='mixture-averaged') \n",
    "ax.plot(phi, u_mlt, marker='s', \n",
    "            markerfacecolor='none',\n",
    "            linestyle='none', label='multi-component') \n",
    "\n",
    "# add title/axis labels\n",
    "ax.set_xlabel('Equivalence ratio (-)')\n",
    "ax.set_ylabel('Flame speed (m/s)')\n",
    "\n",
    "ax.set_title('Adiabatic premixed flame simulation for {} with {}'.format(up['fuel'],up['oxidizer']))\n",
    "\n",
    "# add legend\n",
    "leg = ax.legend(loc='lower right',#prop={'size':11},\n",
    "                title='Transport Model') # % mech)\n",
    "_ = leg.draw_frame(False) "
   ]
  },
  {
   "cell_type": "code",
   "execution_count": 12,
   "metadata": {},
   "outputs": [
    {
     "data": {
      "image/png": "[encoded data removed]",
      "text/plain": [
       "<Figure size 432x432 with 1 Axes>"
      ]
     },
     "metadata": {
      "needs_background": "light"
     },
     "output_type": "display_data"
    }
   ],
   "source": [
    "# create figure and adjust size\n",
    "fig, ax = plt.subplots(1)\n",
    "fig.set_size_inches(6.,6.)\n",
    "\n",
    "# plot results\n",
    "for i, key in enumerate(tasks):\n",
    "    df = mix[key]\n",
    "    label = key.split('_')[1]\n",
    "    ax.plot(1000*df['z (m)'], df['T (K)'], color=col[i % n_col], \n",
    "            linestyle='-', label=label) \n",
    "    df = mlt[key]\n",
    "    ax.plot(1000*df['z (m)'], df['T (K)'], color=col[i % n_col], \n",
    "            linestyle=':', label=label) \n",
    "\n",
    "# add title/axis labels\n",
    "ax.set_xlabel('Position (mm)')\n",
    "ax.set_ylabel('Temperature (K)')\n",
    "\n",
    "# add legend\n",
    "leg = ax.legend(loc='lower right',#prop={'size':11},\n",
    "                title='Equivalence ratio', ncol=2) # % mech)\n",
    "_ = leg.draw_frame(False) "
   ]
  },
  {
   "cell_type": "code",
   "execution_count": null,
   "metadata": {},
   "outputs": [],
   "source": []
  }
 ],
 "metadata": {
  "kernelspec": {
   "display_name": "Python 3",
   "language": "python",
   "name": "python3"
  },
  "language_info": {
   "codemirror_mode": {
    "name": "ipython",
    "version": 3
   },
   "file_extension": ".py",
   "mimetype": "text/x-python",
   "name": "python",
   "nbconvert_exporter": "python",
   "pygments_lexer": "ipython3",
   "version": "3.5.6"
  }
 },
 "nbformat": 4,
 "nbformat_minor": 2
}
