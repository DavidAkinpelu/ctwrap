{
 "cells": [
  {
   "cell_type": "markdown",
   "metadata": {},
   "source": [
    "# Running Simulations from the Commandline\n",
    "\n",
    "All inputs are specified in YAML configuration files.\n",
    "\n",
    "Example makes are run on the command line within jupyter (using [system magic](https://ipython.readthedocs.io/en/stable/interactive/magics.html#magic-system) via `!`)"
   ]
  },
  {
   "cell_type": "code",
   "execution_count": 1,
   "metadata": {},
   "outputs": [
    {
     "data": {
      "text/plain": [
       "'0.1.0'"
      ]
     },
     "execution_count": 1,
     "metadata": {},
     "output_type": "execute_result"
    }
   ],
   "source": [
    "from ctwrap import __version__ as cw_version\n",
    "cw_version"
   ]
  },
  {
   "cell_type": "code",
   "execution_count": 2,
   "metadata": {},
   "outputs": [
    {
     "name": "stdout",
     "output_type": "stream",
     "text": [
      "env: OMP_NUM_THREADS=1\n"
     ]
    }
   ],
   "source": [
    "%env OMP_NUM_THREADS=1"
   ]
  },
  {
   "cell_type": "markdown",
   "metadata": {},
   "source": [
    "## 1. Ignition Delay"
   ]
  },
  {
   "cell_type": "code",
   "execution_count": 3,
   "metadata": {},
   "outputs": [
    {
     "name": "stdout",
     "output_type": "stream",
     "text": [
      "usage: zerod-ignition [-h] [--path PATH] [--output OUTPUT] [-p] [-v]\r\n",
      "                      [--save_species]\r\n",
      "                      config\r\n",
      "\r\n",
      "Simulation of constant pressure ignition (zerod).\r\n",
      "\r\n",
      "positional arguments:\r\n",
      "  config           yaml configuration file\r\n",
      "\r\n",
      "optional arguments:\r\n",
      "  -h, --help       show this help message and exit\r\n",
      "  --path PATH      path to configuration\r\n",
      "  --output OUTPUT  name of output file\r\n",
      "  -p, --processes  number of parallel processes\r\n",
      "  -v, --verbosity  verbosity level\r\n",
      "  --save_species   save species concentrations\r\n"
     ]
    }
   ],
   "source": [
    "# display help \n",
    "! zerod-ignition --help"
   ]
  },
  {
   "cell_type": "code",
   "execution_count": 4,
   "metadata": {},
   "outputs": [
    {
     "name": "stdout",
     "output_type": "stream",
     "text": [
      "########################################\n",
      "Ignition Reactor (zerod)\n",
      "########################################\n",
      "Conditions specified in `ignition.yaml`: Simulated values: ['CH4', 'C2H4', 'C3H8', 'CH3OCH3', 'C2H5OH']\n",
      " * processing `initial.fuel`: CH4 (Process-1)\n",
      " * processing `initial.fuel`: C2H4 (Process-2)\n",
      " * processing `initial.fuel`: C3H8 (Process-3)\n",
      " * processing `initial.fuel`: CH3OCH3 (Process-4)\n",
      " * processing `initial.fuel`: C2H5OH (Process-5)\n",
      "CPU times: user 1.42 s, sys: 278 ms, total: 1.7 s\n",
      "Wall time: 1min 15s\n"
     ]
    }
   ],
   "source": [
    "%%time\n",
    "# run parameter variation\n",
    "! zerod-ignition ignition.yaml -ppppp --output ignition_example.xlsx"
   ]
  },
  {
   "cell_type": "code",
   "execution_count": null,
   "metadata": {},
   "outputs": [],
   "source": []
  }
 ],
 "metadata": {
  "kernelspec": {
   "display_name": "Python 3",
   "language": "python",
   "name": "python3"
  },
  "language_info": {
   "codemirror_mode": {
    "name": "ipython",
    "version": 3
   },
   "file_extension": ".py",
   "mimetype": "text/x-python",
   "name": "python",
   "nbconvert_exporter": "python",
   "pygments_lexer": "ipython3",
   "version": "3.5.6"
  }
 },
 "nbformat": 4,
 "nbformat_minor": 2
}
