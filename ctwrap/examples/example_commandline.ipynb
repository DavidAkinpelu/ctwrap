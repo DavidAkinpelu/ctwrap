{
 "cells": [
  {
   "cell_type": "markdown",
   "metadata": {},
   "source": [
    "# Running Simulations from the Commandline\n",
    "\n",
    "All inputs are specified in YAML configuration files.\n",
    "\n",
    "Example makes are run on the command line within jupyter (using [system magic](https://ipython.readthedocs.io/en/stable/interactive/magics.html#magic-system) via `!`)"
   ]
  },
  {
   "cell_type": "code",
   "execution_count": 1,
   "metadata": {},
   "outputs": [
    {
     "data": {
      "text/plain": [
       "'0.1.0'"
      ]
     },
     "execution_count": 1,
     "metadata": {},
     "output_type": "execute_result"
    }
   ],
   "source": [
    "from ctwrap import __version__ as cw_version\n",
    "cw_version"
   ]
  },
  {
   "cell_type": "code",
   "execution_count": 2,
   "metadata": {},
   "outputs": [
    {
     "name": "stdout",
     "output_type": "stream",
     "text": [
      "env: OMP_NUM_THREADS=1\n"
     ]
    }
   ],
   "source": [
    "%env OMP_NUM_THREADS=1"
   ]
  },
  {
   "cell_type": "markdown",
   "metadata": {},
   "source": [
    "## 1. Ignition Delay"
   ]
  },
  {
   "cell_type": "code",
   "execution_count": 3,
   "metadata": {},
   "outputs": [
    {
     "name": "stdout",
     "output_type": "stream",
     "text": [
      "Traceback (most recent call last):\r\n",
      "  File \"/home/ischoegl/.pyenv/versions/anaconda3-5.3.1/bin/ctwrap-ignition\", line 11, in <module>\r\n",
      "    load_entry_point('ctwrap', 'console_scripts', 'ctwrap-ignition')()\r\n",
      "  File \"/home/ischoegl/.pyenv/versions/anaconda3-5.3.1/lib/python3.7/site-packages/pkg_resources/__init__.py\", line 489, in load_entry_point\r\n",
      "    return get_distribution(dist).load_entry_point(group, name)\r\n",
      "  File \"/home/ischoegl/.pyenv/versions/anaconda3-5.3.1/lib/python3.7/site-packages/pkg_resources/__init__.py\", line 2792, in load_entry_point\r\n",
      "    raise ImportError(\"Entry point %r not found\" % ((group, name),))\r\n",
      "ImportError: Entry point ('console_scripts', 'ctwrap-ignition') not found\r\n"
     ]
    }
   ],
   "source": [
    "# display help \n",
    "! ctwrap-ignition --help"
   ]
  },
  {
   "cell_type": "code",
   "execution_count": 4,
   "metadata": {},
   "outputs": [
    {
     "name": "stdout",
     "output_type": "stream",
     "text": [
      "Traceback (most recent call last):\n",
      "  File \"/home/ischoegl/.pyenv/versions/anaconda3-5.3.1/bin/ctwrap-ignition\", line 11, in <module>\n",
      "    load_entry_point('ctwrap', 'console_scripts', 'ctwrap-ignition')()\n",
      "  File \"/home/ischoegl/.pyenv/versions/anaconda3-5.3.1/lib/python3.7/site-packages/pkg_resources/__init__.py\", line 489, in load_entry_point\n",
      "    return get_distribution(dist).load_entry_point(group, name)\n",
      "  File \"/home/ischoegl/.pyenv/versions/anaconda3-5.3.1/lib/python3.7/site-packages/pkg_resources/__init__.py\", line 2792, in load_entry_point\n",
      "    raise ImportError(\"Entry point %r not found\" % ((group, name),))\n",
      "ImportError: Entry point ('console_scripts', 'ctwrap-ignition') not found\n",
      "CPU times: user 4.45 ms, sys: 9.06 ms, total: 13.5 ms\n",
      "Wall time: 336 ms\n"
     ]
    }
   ],
   "source": [
    "%%time\n",
    "# run parameter variation\n",
    "! ctwrap-ignition ignition.yaml --output ignition_example.xlsx"
   ]
  },
  {
   "cell_type": "code",
   "execution_count": 5,
   "metadata": {},
   "outputs": [
    {
     "name": "stdout",
     "output_type": "stream",
     "text": [
      "Traceback (most recent call last):\n",
      "  File \"/home/ischoegl/.pyenv/versions/anaconda3-5.3.1/bin/ctwrap-ignition\", line 11, in <module>\n",
      "    load_entry_point('ctwrap', 'console_scripts', 'ctwrap-ignition')()\n",
      "  File \"/home/ischoegl/.pyenv/versions/anaconda3-5.3.1/lib/python3.7/site-packages/pkg_resources/__init__.py\", line 489, in load_entry_point\n",
      "    return get_distribution(dist).load_entry_point(group, name)\n",
      "  File \"/home/ischoegl/.pyenv/versions/anaconda3-5.3.1/lib/python3.7/site-packages/pkg_resources/__init__.py\", line 2792, in load_entry_point\n",
      "    raise ImportError(\"Entry point %r not found\" % ((group, name),))\n",
      "ImportError: Entry point ('console_scripts', 'ctwrap-ignition') not found\n",
      "CPU times: user 5.14 ms, sys: 9.02 ms, total: 14.2 ms\n",
      "Wall time: 373 ms\n"
     ]
    }
   ],
   "source": [
    "%%time\n",
    "# run parameter variation\n",
    "! ctwrap-ignition ignition.yaml --parallel --output ignition_example.xlsx"
   ]
  },
  {
   "cell_type": "markdown",
   "metadata": {},
   "source": [
    "## 2. Adiabatic Flame Simulation"
   ]
  },
  {
   "cell_type": "code",
   "execution_count": 6,
   "metadata": {},
   "outputs": [
    {
     "name": "stdout",
     "output_type": "stream",
     "text": [
      "usage: ctwrap-adiabatic-flame [-h] [--path PATH] [--output OUTPUT] [-v]\r\n",
      "                              [--parallel]\r\n",
      "                              config\r\n",
      "\r\n",
      "Simulation of adiabatic flames (ctwrap).\r\n",
      "\r\n",
      "positional arguments:\r\n",
      "  config           yaml configuration file\r\n",
      "\r\n",
      "optional arguments:\r\n",
      "  -h, --help       show this help message and exit\r\n",
      "  --path PATH      path to configuration\r\n",
      "  --output OUTPUT  name of output file\r\n",
      "  -v, --verbosity  verbosity level\r\n",
      "  --parallel       run parallel calculations\r\n"
     ]
    }
   ],
   "source": [
    "# display help \n",
    "! ctwrap-adiabatic-flame --help"
   ]
  },
  {
   "cell_type": "code",
   "execution_count": 8,
   "metadata": {},
   "outputs": [
    {
     "name": "stdout",
     "output_type": "stream",
     "text": [
      "############################################################\n",
      "Freely propagating adiabatic flame (ctwrap)\n",
      "############################################################\n",
      "Conditions specified in `adiabatic_flame.yaml` \n",
      "Simulation tasks for `upstream.phi`: [0.4, 0.6, 0.8, 1.0, 1.2, 1.4, 1.6, 1.8, 2.0, 2.2, 2.4, 2.6]\n",
      "Traceback (most recent call last):\n",
      "  File \"/home/ischoegl/.pyenv/versions/anaconda3-5.3.1/bin/ctwrap-adiabatic-flame\", line 11, in <module>\n",
      "    load_entry_point('ctwrap', 'console_scripts', 'ctwrap-adiabatic-flame')()\n",
      "  File \"/work/Github/cantera-wrapper/ctwrap/bin/adiabatic_flame.py\", line 68, in main\n",
      "    opath=path)\n",
      "  File \"/work/Github/cantera-wrapper/ctwrap/simulation.py\", line 203, in from_yaml\n",
      "    return cls.from_dict(content, oname=oname, opath=opath, **kwargs)\n",
      "  File \"/work/Github/cantera-wrapper/ctwrap/simulation.py\", line 224, in from_dict\n",
      "    return cls(configuration, variation, output, **kwargs)\n",
      "  File \"/work/Github/cantera-wrapper/ctwrap/simulation.py\", line 175, in __init__\n",
      "    fileio.save(oname, info, mode='w', force=force, path=path)\n",
      "  File \"/work/Github/cantera-wrapper/ctwrap/fileio/fileio.py\", line 45, in save\n",
      "    to_xlsx(oname, data, mode=mode, force=force, path=path)\n",
      "  File \"/work/Github/cantera-wrapper/ctwrap/fileio/xlsx.py\", line 50, in to_xlsx\n",
      "    existing = xlsxls(fname)\n",
      "  File \"/work/Github/cantera-wrapper/ctwrap/fileio/xlsx.py\", line 35, in xlsxls\n",
      "    with pd.ExcelFile(fname) as xlsx:\n",
      "  File \"/home/ischoegl/.pyenv/versions/anaconda3-5.3.1/lib/python3.7/site-packages/pandas/io/excel.py\", line 653, in __init__\n",
      "    self._reader = self._engines[engine](self._io)\n",
      "  File \"/home/ischoegl/.pyenv/versions/anaconda3-5.3.1/lib/python3.7/site-packages/pandas/io/excel.py\", line 424, in __init__\n",
      "    self.book = xlrd.open_workbook(filepath_or_buffer)\n",
      "  File \"/home/ischoegl/.pyenv/versions/anaconda3-5.3.1/lib/python3.7/site-packages/xlrd/__init__.py\", line 157, in open_workbook\n",
      "    ragged_rows=ragged_rows,\n",
      "  File \"/home/ischoegl/.pyenv/versions/anaconda3-5.3.1/lib/python3.7/site-packages/xlrd/book.py\", line 92, in open_workbook_xls\n",
      "    biff_version = bk.getbof(XL_WORKBOOK_GLOBALS)\n",
      "  File \"/home/ischoegl/.pyenv/versions/anaconda3-5.3.1/lib/python3.7/site-packages/xlrd/book.py\", line 1278, in getbof\n",
      "    bof_error('Expected BOF record; found %r' % self.mem[savpos:savpos+8])\n",
      "  File \"/home/ischoegl/.pyenv/versions/anaconda3-5.3.1/lib/python3.7/site-packages/xlrd/book.py\", line 1272, in bof_error\n",
      "    raise XLRDError('Unsupported format, or corrupt file: ' + msg)\n",
      "xlrd.biffh.XLRDError: Unsupported format, or corrupt file: Expected BOF record; found b'\\x89HDF\\r\\n\\x1a\\n'\n",
      "CPU times: user 16.3 ms, sys: 11.8 ms, total: 28.1 ms\n",
      "Wall time: 852 ms\n"
     ]
    }
   ],
   "source": [
    "%%time\n",
    "# run parameter variation\n",
    "! ctwrap-adiabatic-flame adiabatic_flame.yaml --output ignition_example.xlsx"
   ]
  },
  {
   "cell_type": "code",
   "execution_count": 7,
   "metadata": {},
   "outputs": [
    {
     "name": "stdout",
     "output_type": "stream",
     "text": [
      "############################################################\n",
      "Freely propagating adiabatic flame (ctwrap)\n",
      "############################################################\n",
      "Conditions specified in `adiabatic_flame.yaml` \n",
      "Simulation tasks for `upstream.phi`: [0.4, 0.6, 0.8, 1.0, 1.2, 1.4, 1.6, 1.8, 2.0, 2.2, 2.4, 2.6]\n",
      " * running simulation using 8 cores\n",
      " * processing `upstream.phi`: 0.4 (Process-1)\n",
      " * processing `upstream.phi`: 0.6 (Process-2)\n",
      " * processing `upstream.phi`: 0.8 (Process-3)\n",
      " * processing `upstream.phi`: 1.0 (Process-4)\n",
      " * processing `upstream.phi`: 1.2 (Process-5)\n",
      " * processing `upstream.phi`: 1.4 (Process-6)\n",
      " * processing `upstream.phi`: 1.6 (Process-7)\n",
      " * processing `upstream.phi`: 1.8 (Process-8)\n",
      "    phi=0.6: mixture-averaged flamespeed = 0.924047 m/s\n",
      "    phi=0.6: multi-component flamespeed  = 0.934704 m/s\n",
      "case `0.6` completed by Process-2\n",
      "    phi=0.8: mixture-averaged flamespeed = 1.735133 m/s\n",
      "    phi=0.8: multi-component flamespeed  = 1.720514 m/s\n",
      "case `0.8` completed by Process-3\n",
      "    phi=1.8: mixture-averaged flamespeed = 3.045410 m/s\n",
      "    phi=1.8: multi-component flamespeed  = 2.992115 m/s\n",
      "case `1.8` completed by Process-8\n",
      "    phi=1.2: mixture-averaged flamespeed = 2.716045 m/s\n",
      "    phi=1.4: mixture-averaged flamespeed = 2.951101 m/s\n",
      "    phi=1.0: mixture-averaged flamespeed = 2.322010 m/s\n",
      "    phi=1.2: multi-component flamespeed  = 2.671883 m/s\n",
      "    phi=1.0: multi-component flamespeed  = 2.289856 m/s\n",
      "    phi=1.4: multi-component flamespeed  = 2.899580 m/s\n",
      "case `1.2` completed by Process-5\n",
      "    phi=0.4: mixture-averaged flamespeed = 0.201058 m/s\n",
      "    phi=0.4: multi-component flamespeed  = 0.215256 m/s\n",
      "    phi=1.6: mixture-averaged flamespeed = 3.051486 m/s\n",
      "    phi=1.6: multi-component flamespeed  = 2.997080 m/s\n",
      "    phi=2.0: mixture-averaged flamespeed = 2.973896 m/s\n",
      "    phi=2.0: multi-component flamespeed  = 2.924909 m/s\n",
      "    phi=2.2: mixture-averaged flamespeed = 2.860158 m/s\n",
      "    phi=2.2: multi-component flamespeed  = 2.817677 m/s\n",
      "    phi=2.4: mixture-averaged flamespeed = 2.726736 m/s\n",
      "    phi=2.4: multi-component flamespeed  = 2.691135 m/s\n",
      "    phi=2.6: mixture-averaged flamespeed = 2.586489 m/s\n",
      "    phi=2.6: multi-component flamespeed  = 2.558451 m/s\n",
      "CPU times: user 74.7 ms, sys: 25.6 ms, total: 100 ms\n",
      "Wall time: 3.54 s\n"
     ]
    }
   ],
   "source": [
    "%%time\n",
    "# run parameter variation\n",
    "! ctwrap-adiabatic-flame adiabatic_flame.yaml --parallel --output ignition_example.h5"
   ]
  },
  {
   "cell_type": "code",
   "execution_count": null,
   "metadata": {},
   "outputs": [],
   "source": []
  }
 ],
 "metadata": {
  "kernelspec": {
   "display_name": "Python 3",
   "language": "python",
   "name": "python3"
  },
  "language_info": {
   "codemirror_mode": {
    "name": "ipython",
    "version": 3
   },
   "file_extension": ".py",
   "mimetype": "text/x-python",
   "name": "python",
   "nbconvert_exporter": "python",
   "pygments_lexer": "ipython3",
   "version": "3.7.2"
  }
 },
 "nbformat": 4,
 "nbformat_minor": 2
}
