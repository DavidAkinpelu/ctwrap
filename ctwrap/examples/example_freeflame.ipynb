{
 "cells": [
  {
   "cell_type": "markdown",
   "metadata": {},
   "source": [
    "## example_freeflame\n",
    "\n",
    "Illustrating a one-dimensional cantera simulation using the `ctwrap` package using the `freeflame` module."
   ]
  },
  {
   "cell_type": "code",
   "execution_count": 1,
   "metadata": {},
   "outputs": [],
   "source": [
    "import cantera as ct\n",
    "\n",
    "import ctwrap as cw\n",
    "import ctwrap.modules as cw_plugins"
   ]
  },
  {
   "cell_type": "code",
   "execution_count": 2,
   "metadata": {},
   "outputs": [
    {
     "name": "stdout",
     "output_type": "stream",
     "text": [
      "env: OMP_NUM_THREADS=1\n"
     ]
    }
   ],
   "source": [
    "%env OMP_NUM_THREADS=1"
   ]
  },
  {
   "cell_type": "code",
   "execution_count": 3,
   "metadata": {},
   "outputs": [
    {
     "data": {
      "text/plain": [
       "<function ctwrap.modules.freeflame.freeflame(name, verbosity=0, chemistry=None, upstream=None, domain=None, loglevel=0)>"
      ]
     },
     "execution_count": 3,
     "metadata": {},
     "output_type": "execute_result"
    }
   ],
   "source": [
    "plg = cw_plugins.freeflame\n",
    "plg"
   ]
  },
  {
   "cell_type": "code",
   "execution_count": 4,
   "metadata": {},
   "outputs": [
    {
     "name": "stdout",
     "output_type": "stream",
     "text": [
      "Simulation tasks: [0.4, 0.6, 0.8, 1.0, 1.2, 1.4, 1.6, 1.8, 2.0, 2.2, 2.4, 2.6]\n"
     ]
    },
    {
     "data": {
      "text/plain": [
       "<ctwrap.simulation.SimulationHandler at 0x7f58b6ef3eb8>"
      ]
     },
     "execution_count": 4,
     "metadata": {},
     "output_type": "execute_result"
    }
   ],
   "source": [
    "s = cw.SimulationHandler.from_yaml('freeflame.yaml', verbosity=1)\n",
    "s"
   ]
  },
  {
   "cell_type": "code",
   "execution_count": 5,
   "metadata": {},
   "outputs": [
    {
     "data": {
      "text/plain": [
       "{'chemistry': {'mechanism': 'h2o2.xml', 'path': ''},\n",
       " 'domain': {'width': [30, 'millimeter', 'domain width']},\n",
       " 'upstream': {'P': [1.0, 'atmosphere', 'pressure'],\n",
       "  'T': [300.0, 'kelvin', 'temperature'],\n",
       "  'fuel': 'H2',\n",
       "  'oxidizer': 'O2:1,AR:5',\n",
       "  'phi': [0.55, 'dimensionless', 'equivalence ratio']}}"
      ]
     },
     "execution_count": 5,
     "metadata": {},
     "output_type": "execute_result"
    }
   ],
   "source": [
    "s.configuration()"
   ]
  },
  {
   "cell_type": "markdown",
   "metadata": {},
   "source": [
    "### Run in serial/parallel"
   ]
  },
  {
   "cell_type": "code",
   "execution_count": 6,
   "metadata": {},
   "outputs": [
    {
     "name": "stdout",
     "output_type": "stream",
     "text": [
      " * processing `upstream.phi`: 0.4\n",
      "    phi=0.4: mixture-averaged flamespeed = 0.201058 m/s\n",
      "    phi=0.4: multi-component flamespeed  = 0.215256 m/s\n",
      " * processing `upstream.phi`: 0.6\n",
      "    phi=0.6: mixture-averaged flamespeed = 0.924047 m/s\n",
      "    phi=0.6: multi-component flamespeed  = 0.934704 m/s\n",
      " * processing `upstream.phi`: 0.8\n",
      "    phi=0.8: mixture-averaged flamespeed = 1.735133 m/s\n",
      "    phi=0.8: multi-component flamespeed  = 1.720514 m/s\n",
      " * processing `upstream.phi`: 1.0\n",
      "    phi=1.0: mixture-averaged flamespeed = 2.322010 m/s\n",
      "    phi=1.0: multi-component flamespeed  = 2.289856 m/s\n",
      " * processing `upstream.phi`: 1.2\n",
      "    phi=1.2: mixture-averaged flamespeed = 2.716045 m/s\n",
      "    phi=1.2: multi-component flamespeed  = 2.671883 m/s\n",
      " * processing `upstream.phi`: 1.4\n",
      "    phi=1.4: mixture-averaged flamespeed = 2.951101 m/s\n",
      "    phi=1.4: multi-component flamespeed  = 2.899580 m/s\n",
      " * processing `upstream.phi`: 1.6\n",
      "    phi=1.6: mixture-averaged flamespeed = 3.051486 m/s\n",
      "    phi=1.6: multi-component flamespeed  = 2.997080 m/s\n",
      " * processing `upstream.phi`: 1.8\n",
      "    phi=1.8: mixture-averaged flamespeed = 3.045410 m/s\n",
      "    phi=1.8: multi-component flamespeed  = 2.992115 m/s\n",
      " * processing `upstream.phi`: 2.0\n",
      "    phi=2.0: mixture-averaged flamespeed = 2.973896 m/s\n",
      "    phi=2.0: multi-component flamespeed  = 2.924909 m/s\n",
      " * processing `upstream.phi`: 2.2\n",
      "    phi=2.2: mixture-averaged flamespeed = 2.860158 m/s\n",
      "    phi=2.2: multi-component flamespeed  = 2.817677 m/s\n",
      " * processing `upstream.phi`: 2.4\n",
      "    phi=2.4: mixture-averaged flamespeed = 2.726736 m/s\n",
      "    phi=2.4: multi-component flamespeed  = 2.691135 m/s\n",
      " * processing `upstream.phi`: 2.6\n",
      "    phi=2.6: mixture-averaged flamespeed = 2.586489 m/s\n",
      "    phi=2.6: multi-component flamespeed  = 2.558451 m/s\n",
      "CPU times: user 7.52 s, sys: 274 ms, total: 7.8 s\n",
      "Wall time: 7.81 s\n"
     ]
    },
    {
     "data": {
      "text/plain": [
       "True"
      ]
     },
     "execution_count": 6,
     "metadata": {},
     "output_type": "execute_result"
    }
   ],
   "source": [
    "%%time\n",
    "s.run_serial(plugin=plg, verbosity=1, loglevel=0)"
   ]
  },
  {
   "cell_type": "code",
   "execution_count": 7,
   "metadata": {},
   "outputs": [
    {
     "name": "stdout",
     "output_type": "stream",
     "text": [
      "    phi=0.6: mixture-averaged flamespeed = 0.924047 m/s\n",
      "    phi=0.8: mixture-averaged flamespeed = 1.735133 m/s\n",
      "    phi=0.6: multi-component flamespeed  = 0.934704 m/s\n",
      "    phi=0.8: multi-component flamespeed  = 1.720514 m/s\n",
      "    phi=0.4: mixture-averaged flamespeed = 0.201058 m/s\n",
      "    phi=1.0: mixture-averaged flamespeed = 2.322010 m/s\n",
      "    phi=0.4: multi-component flamespeed  = 0.215256 m/s\n",
      "    phi=1.0: multi-component flamespeed  = 2.289856 m/s\n",
      "    phi=1.2: mixture-averaged flamespeed = 2.716045 m/s\n",
      "    phi=1.2: multi-component flamespeed  = 2.671883 m/s\n",
      "    phi=1.4: mixture-averaged flamespeed = 2.951101 m/s\n",
      "    phi=1.4: multi-component flamespeed  = 2.899580 m/s\n",
      "    phi=1.8: mixture-averaged flamespeed = 3.045410 m/s\n",
      "    phi=1.8: multi-component flamespeed  = 2.992115 m/s\n",
      "    phi=1.6: mixture-averaged flamespeed = 3.051486 m/s\n",
      "    phi=1.6: multi-component flamespeed  = 2.997080 m/s\n",
      "    phi=2.0: mixture-averaged flamespeed = 2.973896 m/s\n",
      "    phi=2.0: multi-component flamespeed  = 2.924909 m/s\n",
      "    phi=2.2: mixture-averaged flamespeed = 2.860158 m/s\n",
      "    phi=2.2: multi-component flamespeed  = 2.817677 m/s\n",
      "    phi=2.4: mixture-averaged flamespeed = 2.726736 m/s\n",
      "    phi=2.4: multi-component flamespeed  = 2.691135 m/s\n",
      "    phi=2.6: mixture-averaged flamespeed = 2.586489 m/s\n",
      "    phi=2.6: multi-component flamespeed  = 2.558451 m/s\n",
      "CPU times: user 18.8 ms, sys: 16.8 ms, total: 35.6 ms\n",
      "Wall time: 2.83 s\n"
     ]
    },
    {
     "data": {
      "text/plain": [
       "True"
      ]
     },
     "execution_count": 7,
     "metadata": {},
     "output_type": "execute_result"
    }
   ],
   "source": [
    "%%time\n",
    "s.run_parallel(plugin=plg, verbosity=0)"
   ]
  },
  {
   "cell_type": "code",
   "execution_count": 8,
   "metadata": {},
   "outputs": [],
   "source": [
    "#s.run_parallel(plugin=plg, verbosity=1)"
   ]
  },
  {
   "cell_type": "markdown",
   "metadata": {},
   "source": [
    "### 3. Create Graphical Output"
   ]
  },
  {
   "cell_type": "code",
   "execution_count": 9,
   "metadata": {},
   "outputs": [
    {
     "data": {
      "text/plain": [
       "dict_keys(['phi=2.2:mix', 'phi=2.4:mix', 'configuration', 'phi=2.2:multi', 'phi=1.4:mix', 'phi=2.4:multi', 'phi=1.4:multi', 'phi=0.4:multi', 'phi=1.0:multi', 'phi=0.8:multi', 'phi=0.6:multi', 'phi=1.2:multi', 'phi=2.0:multi', 'variation', 'phi=2.6:mix', 'phi=2.0:mix', 'phi=0.4:mix', 'phi=2.6:multi', 'phi=1.8:multi', 'phi=0.8:mix', 'phi=1.6:multi', 'phi=1.0:mix', 'phi=0.6:mix', 'phi=1.2:mix', 'phi=1.8:mix', 'phi=1.6:mix'])"
      ]
     },
     "execution_count": 9,
     "metadata": {},
     "output_type": "execute_result"
    }
   ],
   "source": [
    "# load data from output file\n",
    "data = cw.fileio.from_hdf(s.oname)\n",
    "data.keys()"
   ]
  },
  {
   "cell_type": "code",
   "execution_count": 10,
   "metadata": {},
   "outputs": [
    {
     "data": {
      "text/plain": [
       "[0.4, 0.6, 0.8, 1.0, 1.2, 1.4, 1.6, 1.8, 2.0, 2.2, 2.4, 2.6]"
      ]
     },
     "execution_count": 10,
     "metadata": {},
     "output_type": "execute_result"
    }
   ],
   "source": [
    "mix = {k.split(':')[0]: data[k] for k in data if 'mix' in k}\n",
    "mlt = {k.split(':')[0]: data[k] for k in data if 'multi' in k}\n",
    "\n",
    "phi = data.get('variation')['tasks']\n",
    "phi"
   ]
  },
  {
   "cell_type": "code",
   "execution_count": 11,
   "metadata": {},
   "outputs": [],
   "source": [
    "import matplotlib.pyplot as plt\n",
    "import matplotlib as mpl\n",
    "\n",
    "col = mpl.rcParams['axes.prop_cycle'].by_key()['color']\n",
    "n_col = len(col)"
   ]
  },
  {
   "cell_type": "code",
   "execution_count": 12,
   "metadata": {},
   "outputs": [
    {
     "data": {
      "image/png": "[encoded data removed]",
      "text/plain": [
       "<Figure size 432x432 with 1 Axes>"
      ]
     },
     "metadata": {
      "needs_background": "light"
     },
     "output_type": "display_data"
    }
   ],
   "source": [
    "# create figure and adjust size/spacing\n",
    "fig, ax = plt.subplots(1) #\n",
    "fig.set_size_inches(6.,6.,forward=True)\n",
    "fig.subplots_adjust(hspace=0,bottom=.125,top=.9,left=.17,right=.955)\n",
    "\n",
    "# plot results\n",
    "for i, v in enumerate(phi):\n",
    "    key = 'phi={}'.format(v)\n",
    "    df = mix[key]\n",
    "    ax.plot(1000*df['z (m)'], df['T (K)'], color=col[i % n_col], \n",
    "            linestyle='-', label=key[4:]) \n",
    "    df = mlt[key]\n",
    "    ax.plot(1000*df['z (m)'], df['T (K)'], color=col[i % n_col], \n",
    "            linestyle=':', label=key[4:]) \n",
    "\n",
    "# add title/axis labels\n",
    "ax.set_xlabel('Position (mm)')\n",
    "ax.set_ylabel('Temperature (K)')\n",
    "\n",
    "# add legend\n",
    "leg = ax.legend(loc='lower right',#prop={'size':11},\n",
    "                title='Equivalence ratio', ncol=2) # % mech)\n",
    "_ = leg.draw_frame(False) "
   ]
  },
  {
   "cell_type": "code",
   "execution_count": 13,
   "metadata": {},
   "outputs": [
    {
     "data": {
      "image/png": "[encoded data removed]",
      "text/plain": [
       "<Figure size 432x288 with 1 Axes>"
      ]
     },
     "metadata": {
      "needs_background": "light"
     },
     "output_type": "display_data"
    }
   ],
   "source": [
    "# create figure and adjust size/spacing\n",
    "fig, ax = plt.subplots(1) #\n",
    "fig.set_size_inches(6.,4.,forward=True)\n",
    "fig.subplots_adjust(hspace=0,bottom=.125,top=.9,left=.17,right=.955)\n",
    "\n",
    "# plot results\n",
    "u_mix = [ mix['phi={}'.format(v)]['u (m/s)'][0] for v in phi]\n",
    "u_mlt = [ mlt['phi={}'.format(v)]['u (m/s)'][0] for v in phi]\n",
    "\n",
    "ax.plot(phi, u_mix, marker='o', \n",
    "            linestyle='none', label='mixture-averaged') \n",
    "ax.plot(phi, u_mlt, marker='s', \n",
    "            markerfacecolor='none',\n",
    "            linestyle='none', label='multi-component') \n",
    "\n",
    "# add title/axis labels\n",
    "ax.set_xlabel('Equivalence ratio (-)')\n",
    "ax.set_ylabel('Flame speed (m/s)')\n",
    "\n",
    "up = data.get('configuration')['upstream']\n",
    "ax.set_title('Adiabatic flame simulation for {} with {}'.format(up['fuel'],up['oxidizer']))\n",
    "\n",
    "# add legend\n",
    "leg = ax.legend(loc='lower right',#prop={'size':11},\n",
    "                title='Transport Model') # % mech)\n",
    "_ = leg.draw_frame(False) "
   ]
  },
  {
   "cell_type": "code",
   "execution_count": null,
   "metadata": {},
   "outputs": [],
   "source": []
  }
 ],
 "metadata": {
  "kernelspec": {
   "display_name": "Python 3",
   "language": "python",
   "name": "python3"
  },
  "language_info": {
   "codemirror_mode": {
    "name": "ipython",
    "version": 3
   },
   "file_extension": ".py",
   "mimetype": "text/x-python",
   "name": "python",
   "nbconvert_exporter": "python",
   "pygments_lexer": "ipython3",
   "version": "3.5.6"
  }
 },
 "nbformat": 4,
 "nbformat_minor": 2
}
