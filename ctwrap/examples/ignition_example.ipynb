{
 "cells": [
  {
   "cell_type": "markdown",
   "metadata": {},
   "source": [
    "# Ignition Example\n",
    "\n",
    "This example uses `ctwrap` for ideal gas constant pressure reactor simulations (i.e. ignition) defined by the simulation module `ignition` (`ctwrap.modules.ignition`)."
   ]
  },
  {
   "cell_type": "markdown",
   "metadata": {},
   "source": [
    "## 1. Function/Class Definitions"
   ]
  },
  {
   "cell_type": "code",
   "execution_count": 1,
   "metadata": {},
   "outputs": [
    {
     "name": "stdout",
     "output_type": "stream",
     "text": [
      "env: OMP_NUM_THREADS=1\n"
     ]
    }
   ],
   "source": [
    "%env OMP_NUM_THREADS=1"
   ]
  },
  {
   "cell_type": "code",
   "execution_count": 2,
   "metadata": {},
   "outputs": [],
   "source": [
    "import matplotlib.pyplot as plt\n",
    "import matplotlib as mpl\n",
    "\n",
    "col = mpl.rcParams['axes.prop_cycle'].by_key()['color']"
   ]
  },
  {
   "cell_type": "code",
   "execution_count": 3,
   "metadata": {},
   "outputs": [
    {
     "data": {
      "text/plain": [
       "'0.1.0'"
      ]
     },
     "execution_count": 3,
     "metadata": {},
     "output_type": "execute_result"
    }
   ],
   "source": [
    "import ctwrap as cw\n",
    "cw.__version__"
   ]
  },
  {
   "cell_type": "markdown",
   "metadata": {},
   "source": [
    "## 2. Simulations"
   ]
  },
  {
   "cell_type": "markdown",
   "metadata": {},
   "source": [
    "### 2.1 Create Simulation object\n",
    "\n",
    "Uses a module in the `modules` folder. Modules do not have to depend on `ctwrap`."
   ]
  },
  {
   "cell_type": "code",
   "execution_count": 4,
   "metadata": {},
   "outputs": [
    {
     "data": {
      "text/plain": [
       "<ctwrap.simulation.Ignition at 0x7f1aca70f3c8>"
      ]
     },
     "execution_count": 4,
     "metadata": {},
     "output_type": "execute_result"
    }
   ],
   "source": [
    "sim = cw.Simulation.from_module(cw.modules.ignition)\n",
    "sim"
   ]
  },
  {
   "cell_type": "code",
   "execution_count": 5,
   "metadata": {},
   "outputs": [
    {
     "name": "stdout",
     "output_type": "stream",
     "text": [
      "CPU times: user 498 ms, sys: 9.18 ms, total: 507 ms\n",
      "Wall time: 515 ms\n"
     ]
    }
   ],
   "source": [
    "%%time\n",
    "sim.run()"
   ]
  },
  {
   "cell_type": "markdown",
   "metadata": {},
   "source": [
    "### 2.2 Create Simulation Handler\n",
    "\n",
    "Parameters are specified via YAML file"
   ]
  },
  {
   "cell_type": "code",
   "execution_count": 6,
   "metadata": {},
   "outputs": [
    {
     "name": "stdout",
     "output_type": "stream",
     "text": [
      "Simulations for entry `initial.phi` with values: [0.4, 0.6, 0.8, 1.0, 1.2, 1.4, 1.6, 1.8]\n"
     ]
    },
    {
     "data": {
      "text/plain": [
       "<ctwrap.simulation.SimulationHandler at 0x7f1abf719ac8>"
      ]
     },
     "execution_count": 6,
     "metadata": {},
     "output_type": "execute_result"
    }
   ],
   "source": [
    "# create variation object\n",
    "fname = 'ignition.yaml'\n",
    "sh = cw.SimulationHandler.from_yaml(fname, verbosity=1)\n",
    "sh"
   ]
  },
  {
   "cell_type": "markdown",
   "metadata": {},
   "source": [
    "### 2.3 Run parallel simulation"
   ]
  },
  {
   "cell_type": "code",
   "execution_count": 7,
   "metadata": {},
   "outputs": [
    {
     "name": "stdout",
     "output_type": "stream",
     "text": [
      " * running simulation using 4 cores\n",
      " * processing `initial.phi_0.4` (Process-1)\n",
      " * processing `initial.phi_1.8` (Process-2)\n",
      " * processing `initial.phi_1.0` (Process-3)\n",
      " * processing `initial.phi_1.6` (Process-4)\n",
      " * processing `initial.phi_0.6` (Process-2)\n",
      " * processing `initial.phi_1.4` (Process-1)\n",
      " * processing `initial.phi_0.8` (Process-4)\n",
      " * processing `initial.phi_1.2` (Process-3)\n",
      "CPU times: user 14.7 ms, sys: 17.1 ms, total: 31.8 ms\n",
      "Wall time: 1.3 s\n"
     ]
    },
    {
     "data": {
      "text/plain": [
       "True"
      ]
     },
     "execution_count": 7,
     "metadata": {},
     "output_type": "execute_result"
    }
   ],
   "source": [
    "%%time\n",
    "sh.run_parallel(sim)"
   ]
  },
  {
   "cell_type": "markdown",
   "metadata": {},
   "source": [
    "## 3. Create graphical output"
   ]
  },
  {
   "cell_type": "markdown",
   "metadata": {},
   "source": [
    "### 3.1 Load data from file"
   ]
  },
  {
   "cell_type": "code",
   "execution_count": 8,
   "metadata": {},
   "outputs": [
    {
     "data": {
      "text/plain": [
       "dict_keys(['initial.phi_0.4', 'initial.phi_1.8', 'variation', 'initial.phi_1.0', 'initial.phi_1.6', 'initial.phi_0.6', 'defaults', 'initial.phi_1.4', 'initial.phi_0.8', 'initial.phi_1.2'])"
      ]
     },
     "execution_count": 8,
     "metadata": {},
     "output_type": "execute_result"
    }
   ],
   "source": [
    "# load data from output file\n",
    "data = cw.fileio.from_hdf(sh.output_name)\n",
    "data.keys()"
   ]
  },
  {
   "cell_type": "code",
   "execution_count": 9,
   "metadata": {},
   "outputs": [
    {
     "data": {
      "text/plain": [
       "{'entry': 'initial.phi',\n",
       " 'tasks': ['initial.phi_0.4',\n",
       "  'initial.phi_1.8',\n",
       "  'initial.phi_1.0',\n",
       "  'initial.phi_1.6',\n",
       "  'initial.phi_0.6',\n",
       "  'initial.phi_1.4',\n",
       "  'initial.phi_0.8',\n",
       "  'initial.phi_1.2'],\n",
       " 'values': [0.4, 0.6, 0.8, 1.0, 1.2, 1.4, 1.6, 1.8]}"
      ]
     },
     "execution_count": 9,
     "metadata": {},
     "output_type": "execute_result"
    }
   ],
   "source": [
    "# eliminate entries containing documentation\n",
    "config = data.pop('defaults')\n",
    "variation = data.pop('variation')\n",
    "variation"
   ]
  },
  {
   "cell_type": "markdown",
   "metadata": {},
   "source": [
    "### 3.2 Plot\n",
    "\n",
    "Display time histories for gas temperature."
   ]
  },
  {
   "cell_type": "code",
   "execution_count": 10,
   "metadata": {},
   "outputs": [
    {
     "data": {
      "image/png": "[encoded data removed]",
      "text/plain": [
       "<Figure size 576x576 with 1 Axes>"
      ]
     },
     "metadata": {
      "needs_background": "light"
     },
     "output_type": "display_data"
    }
   ],
   "source": [
    "# create figure and adjust size\n",
    "fig, ax = plt.subplots(1) \n",
    "fig.set_size_inches(8.,8.)\n",
    "\n",
    "keys = list(data.keys())\n",
    "keys.sort()\n",
    "\n",
    "# plot results\n",
    "for f, key in enumerate(keys):\n",
    "    df = data[key]\n",
    "    ax.semilogx(1000*df['t (s)'],df['T (K)'],color=col[f],label=key) \n",
    "\n",
    "# add title/axis labels\n",
    "ax.set_title(r'IdealGasConstPressure Reactor')\n",
    "ax.set_xlabel('Time (ms)')\n",
    "ax.set_ylabel('Temperature (K)')\n",
    "\n",
    "# add legend\n",
    "leg = ax.legend(loc='upper left',#prop={'size':11},\n",
    "                title='Equivalence ratio') # % mech)\n",
    "leg.draw_frame(False) \n",
    "\n",
    "# show and save\n",
    "plt.show()"
   ]
  },
  {
   "cell_type": "code",
   "execution_count": null,
   "metadata": {},
   "outputs": [],
   "source": []
  }
 ],
 "metadata": {
  "kernelspec": {
   "display_name": "Python 3",
   "language": "python",
   "name": "python3"
  },
  "language_info": {
   "codemirror_mode": {
    "name": "ipython",
    "version": 3
   },
   "file_extension": ".py",
   "mimetype": "text/x-python",
   "name": "python",
   "nbconvert_exporter": "python",
   "pygments_lexer": "ipython3",
   "version": "3.5.6"
  }
 },
 "nbformat": 4,
 "nbformat_minor": 2
}
