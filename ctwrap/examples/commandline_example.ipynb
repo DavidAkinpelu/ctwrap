{
 "cells": [
  {
   "cell_type": "markdown",
   "metadata": {},
   "source": [
    "# Running Simulations from the Commandline\n",
    "\n",
    "All inputs are specified in YAML configuration files.\n",
    "\n",
    "Example makes are run on the command line within jupyter (using [system magic](https://ipython.readthedocs.io/en/stable/interactive/magics.html#magic-system) via `!`)"
   ]
  },
  {
   "cell_type": "markdown",
   "metadata": {},
   "source": [
    "## 1. Help"
   ]
  },
  {
   "cell_type": "code",
   "execution_count": 1,
   "metadata": {},
   "outputs": [
    {
     "name": "stdout",
     "output_type": "stream",
     "text": [
      "usage: ctwrap [-h] [--output OUTPUT] [-v] [--parallel] module_name yaml_config\r\n",
      "\r\n",
      "Simulation of constant pressure ignition (ctwrap).\r\n",
      "\r\n",
      "positional arguments:\r\n",
      "  module_name      wrapped module (specifies Python import path as\r\n",
      "                   <module_name> or ctwrap.modules.<module_name>)\r\n",
      "  yaml_config      yaml configuration file\r\n",
      "\r\n",
      "optional arguments:\r\n",
      "  -h, --help       show this help message and exit\r\n",
      "  --output OUTPUT  name of output file\r\n",
      "  -v, --verbosity  verbosity level\r\n",
      "  --parallel       run parallel calculations\r\n"
     ]
    }
   ],
   "source": [
    "# display help \n",
    "! ctwrap --help"
   ]
  },
  {
   "cell_type": "markdown",
   "metadata": {},
   "source": [
    "## 2. Template"
   ]
  },
  {
   "cell_type": "code",
   "execution_count": 2,
   "metadata": {},
   "outputs": [
    {
     "name": "stdout",
     "output_type": "stream",
     "text": [
      "    - `template`: sleeping for 0.4 seconds ...\n",
      "    - `template`: sleeping for 0.6 seconds ...\n",
      "    - `template`: sleeping for 0.8 seconds ...\n",
      "    - `template`: sleeping for 1.0 seconds ...\n",
      "    - `template`: sleeping for 1.2 seconds ...\n",
      "    - `template`: sleeping for 1.4 seconds ...\n",
      "    - `template`: sleeping for 1.6 seconds ...\n",
      "    - `template`: sleeping for 1.8 seconds ...\n",
      "CPU times: user 169 ms, sys: 45.7 ms, total: 215 ms\n",
      "Wall time: 9.63 s\n"
     ]
    }
   ],
   "source": [
    "%%time\n",
    "# run template module \n",
    "! ctwrap template template.yaml"
   ]
  },
  {
   "cell_type": "code",
   "execution_count": 3,
   "metadata": {},
   "outputs": [
    {
     "name": "stdout",
     "output_type": "stream",
     "text": [
      "    - `template`: sleeping for 0.4 seconds ...\n",
      "    - `template`: sleeping for 0.6 seconds ...\n",
      "    - `template`: sleeping for 0.8 seconds ...\n",
      "    - `template`: sleeping for 1.0 seconds ...\n",
      "    - `template`: sleeping for 1.2 seconds ...\n",
      "    - `template`: sleeping for 1.4 seconds ...\n",
      "    - `template`: sleeping for 1.6 seconds ...\n",
      "    - `template`: sleeping for 1.8 seconds ...\n",
      "CPU times: user 61.3 ms, sys: 12.6 ms, total: 73.9 ms\n",
      "Wall time: 3.08 s\n"
     ]
    }
   ],
   "source": [
    "%%time\n",
    "# run template module\n",
    "! ctwrap template template.yaml --parallel"
   ]
  },
  {
   "cell_type": "code",
   "execution_count": 4,
   "metadata": {},
   "outputs": [
    {
     "name": "stdout",
     "output_type": "stream",
     "text": [
      "    - `template`: sleeping for 0.4 seconds ...\n",
      "    - `template`: sleeping for 0.6 seconds ...\n",
      "    - `template`: sleeping for 0.8 seconds ...\n",
      "    - `template`: sleeping for 1.0 seconds ...\n",
      "    - `template`: sleeping for 1.2 seconds ...\n",
      "    - `template`: sleeping for 1.4 seconds ...\n",
      "    - `template`: sleeping for 1.6 seconds ...\n",
      "    - `template`: sleeping for 1.8 seconds ...\n",
      "CPU times: user 54.7 ms, sys: 16.3 ms, total: 71 ms\n",
      "Wall time: 3.06 s\n"
     ]
    }
   ],
   "source": [
    "%%time\n",
    "# run template module (full python path)\n",
    "! ctwrap ctwrap.modules.template template.yaml --parallel"
   ]
  },
  {
   "cell_type": "markdown",
   "metadata": {},
   "source": [
    "## 3. Ignition"
   ]
  },
  {
   "cell_type": "code",
   "execution_count": 5,
   "metadata": {},
   "outputs": [
    {
     "name": "stdout",
     "output_type": "stream",
     "text": [
      "################################################################################\n",
      "Running simulations: module `ctwrap.modules.ignition`\n",
      "Conditions specified in `ignition.yaml` \n",
      "################################################################################\n",
      "Simulations for entry `initial.phi` with values: [0.4, 0.6, 0.8, 1.0, 1.2, 1.4, 1.6, 1.8]\n",
      " * processing `initial.phi_0.4`\n",
      " * processing `initial.phi_0.6`\n",
      " * processing `initial.phi_0.8`\n",
      " * processing `initial.phi_1.0`\n",
      " * processing `initial.phi_1.2`\n",
      " * processing `initial.phi_1.4`\n",
      " * processing `initial.phi_1.6`\n",
      " * processing `initial.phi_1.8`\n",
      "CPU times: user 93.5 ms, sys: 34 ms, total: 127 ms\n",
      "Wall time: 5.67 s\n"
     ]
    }
   ],
   "source": [
    "%%time\n",
    "# run parameter variation\n",
    "! ctwrap ignition ignition.yaml -v --output ignition_example.h5"
   ]
  },
  {
   "cell_type": "code",
   "execution_count": 6,
   "metadata": {},
   "outputs": [
    {
     "name": "stdout",
     "output_type": "stream",
     "text": [
      "################################################################################\n",
      "Running simulations: module `ctwrap.modules.ignition`\n",
      "Conditions specified in `ignition.yaml` \n",
      "################################################################################\n",
      "Simulations for entry `initial.phi` with values: [0.4, 0.6, 0.8, 1.0, 1.2, 1.4, 1.6, 1.8]\n",
      " * running simulation using 8 cores\n",
      " * processing `initial.phi_0.4` (Process-1)\n",
      " * processing `initial.phi_0.6` (Process-2)\n",
      " * processing `initial.phi_0.8` (Process-3)\n",
      " * processing `initial.phi_1.0` (Process-4)\n",
      " * processing `initial.phi_1.2` (Process-5)\n",
      " * processing `initial.phi_1.4` (Process-6)\n",
      " * processing `initial.phi_1.6` (Process-7)\n",
      " * processing `initial.phi_1.8` (Process-8)\n",
      "CPU times: user 34.8 ms, sys: 9.56 ms, total: 44.3 ms\n",
      "Wall time: 1.86 s\n"
     ]
    }
   ],
   "source": [
    "%%time\n",
    "# run parameter variation\n",
    "! ctwrap ignition ignition.yaml -v --output ignition_example.h5 --parallel"
   ]
  },
  {
   "cell_type": "code",
   "execution_count": 7,
   "metadata": {},
   "outputs": [
    {
     "name": "stdout",
     "output_type": "stream",
     "text": [
      "/home/ischoegl/.pyenv/versions/anaconda3-5.3.1/lib/python3.7/site-packages/xlrd/xlsx.py:266: PendingDeprecationWarning: This method will be removed in future versions.  Use 'tree.iter()' or 'list(tree.iter())' instead.\n",
      "  for elem in self.tree.iter() if Element_has_iter else self.tree.getiterator():\n",
      "CPU times: user 155 ms, sys: 47.9 ms, total: 203 ms\n",
      "Wall time: 10.2 s\n"
     ]
    }
   ],
   "source": [
    "%%time\n",
    "# run parameter variation (Excel output via pandas is SLOW)\n",
    "! ctwrap ignition ignition.yaml --output ignition_example.xlsx --parallel"
   ]
  },
  {
   "cell_type": "markdown",
   "metadata": {},
   "source": [
    "## 4. Adiabatic Flame Simulation"
   ]
  },
  {
   "cell_type": "code",
   "execution_count": 8,
   "metadata": {},
   "outputs": [
    {
     "name": "stdout",
     "output_type": "stream",
     "text": [
      "    upstream.phi_0.4: mixture-averaged flamespeed = 0.201058 m/s\n",
      "    upstream.phi_0.4: multi-component flamespeed  = 0.215256 m/s\n",
      "    upstream.phi_0.6: mixture-averaged flamespeed = 0.924047 m/s\n",
      "    upstream.phi_0.6: multi-component flamespeed  = 0.934704 m/s\n",
      "    upstream.phi_0.8: mixture-averaged flamespeed = 1.735133 m/s\n",
      "    upstream.phi_0.8: multi-component flamespeed  = 1.720514 m/s\n",
      "    upstream.phi_1.0: mixture-averaged flamespeed = 2.322010 m/s\n",
      "    upstream.phi_1.0: multi-component flamespeed  = 2.289856 m/s\n",
      "    upstream.phi_1.2: mixture-averaged flamespeed = 2.716045 m/s\n",
      "    upstream.phi_1.2: multi-component flamespeed  = 2.671883 m/s\n",
      "    upstream.phi_1.4: mixture-averaged flamespeed = 2.951101 m/s\n",
      "    upstream.phi_1.4: multi-component flamespeed  = 2.899580 m/s\n",
      "    upstream.phi_1.6: mixture-averaged flamespeed = 3.051486 m/s\n",
      "    upstream.phi_1.6: multi-component flamespeed  = 2.997080 m/s\n",
      "    upstream.phi_1.8: mixture-averaged flamespeed = 3.045410 m/s\n",
      "    upstream.phi_1.8: multi-component flamespeed  = 2.992115 m/s\n",
      "    upstream.phi_2.0: mixture-averaged flamespeed = 2.973896 m/s\n",
      "    upstream.phi_2.0: multi-component flamespeed  = 2.924909 m/s\n",
      "    upstream.phi_2.2: mixture-averaged flamespeed = 2.860158 m/s\n",
      "    upstream.phi_2.2: multi-component flamespeed  = 2.817677 m/s\n",
      "    upstream.phi_2.4: mixture-averaged flamespeed = 2.726736 m/s\n",
      "    upstream.phi_2.4: multi-component flamespeed  = 2.691135 m/s\n",
      "    upstream.phi_2.6: mixture-averaged flamespeed = 2.586489 m/s\n",
      "    upstream.phi_2.6: multi-component flamespeed  = 2.558451 m/s\n",
      "CPU times: user 197 ms, sys: 58.7 ms, total: 255 ms\n",
      "Wall time: 11.8 s\n"
     ]
    }
   ],
   "source": [
    "%%time\n",
    "# run parameter variation\n",
    "! ctwrap adiabatic_flame adiabatic_flame.yaml --output ignition_example"
   ]
  },
  {
   "cell_type": "code",
   "execution_count": 9,
   "metadata": {},
   "outputs": [
    {
     "name": "stdout",
     "output_type": "stream",
     "text": [
      "    upstream.phi_0.6: mixture-averaged flamespeed = 0.924047 m/s\n",
      "    upstream.phi_0.8: mixture-averaged flamespeed = 1.735133 m/s\n",
      "    upstream.phi_0.6: multi-component flamespeed  = 0.934704 m/s\n",
      "    upstream.phi_0.8: multi-component flamespeed  = 1.720514 m/s\n",
      "    upstream.phi_1.8: mixture-averaged flamespeed = 3.045410 m/s\n",
      "    upstream.phi_1.8: multi-component flamespeed  = 2.992115 m/s\n",
      "    upstream.phi_1.0: mixture-averaged flamespeed = 2.322010 m/s\n",
      "    upstream.phi_1.4: mixture-averaged flamespeed = 2.951101 m/s\n",
      "    upstream.phi_1.2: mixture-averaged flamespeed = 2.716045 m/s\n",
      "    upstream.phi_0.4: mixture-averaged flamespeed = 0.201058 m/s\n",
      "    upstream.phi_1.0: multi-component flamespeed  = 2.289856 m/s\n",
      "    upstream.phi_1.4: multi-component flamespeed  = 2.899580 m/s\n",
      "    upstream.phi_1.6: mixture-averaged flamespeed = 3.051486 m/s\n",
      "    upstream.phi_0.4: multi-component flamespeed  = 0.215256 m/s\n",
      "    upstream.phi_1.2: multi-component flamespeed  = 2.671883 m/s\n",
      "    upstream.phi_1.6: multi-component flamespeed  = 2.997080 m/s\n",
      "    upstream.phi_2.0: mixture-averaged flamespeed = 2.973896 m/s\n",
      "    upstream.phi_2.0: multi-component flamespeed  = 2.924909 m/s\n",
      "    upstream.phi_2.2: mixture-averaged flamespeed = 2.860158 m/s\n",
      "    upstream.phi_2.2: multi-component flamespeed  = 2.817677 m/s\n",
      "    upstream.phi_2.4: mixture-averaged flamespeed = 2.726736 m/s\n",
      "    upstream.phi_2.4: multi-component flamespeed  = 2.691135 m/s\n",
      "    upstream.phi_2.6: mixture-averaged flamespeed = 2.586489 m/s\n",
      "    upstream.phi_2.6: multi-component flamespeed  = 2.558451 m/s\n",
      "CPU times: user 72 ms, sys: 20 ms, total: 92 ms\n",
      "Wall time: 3.64 s\n"
     ]
    }
   ],
   "source": [
    "%%time\n",
    "# run parameter variation\n",
    "! ctwrap adiabatic_flame adiabatic_flame.yaml --output ignition_example.h5 --parallel"
   ]
  },
  {
   "cell_type": "code",
   "execution_count": null,
   "metadata": {},
   "outputs": [],
   "source": []
  }
 ],
 "metadata": {
  "kernelspec": {
   "display_name": "Python 3",
   "language": "python",
   "name": "python3"
  },
  "language_info": {
   "codemirror_mode": {
    "name": "ipython",
    "version": 3
   },
   "file_extension": ".py",
   "mimetype": "text/x-python",
   "name": "python",
   "nbconvert_exporter": "python",
   "pygments_lexer": "ipython3",
   "version": "3.7.2"
  }
 },
 "nbformat": 4,
 "nbformat_minor": 2
}
