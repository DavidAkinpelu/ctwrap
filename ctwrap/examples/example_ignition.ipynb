{
 "cells": [
  {
   "cell_type": "markdown",
   "metadata": {},
   "source": [
    "# Example for Ignition\n",
    "\n",
    "The following is a streamlined approach using YAML input to specify simulated conditions."
   ]
  },
  {
   "cell_type": "code",
   "execution_count": 1,
   "metadata": {},
   "outputs": [],
   "source": [
    "import numpy as np\n",
    "import cantera as ct\n",
    "import pandas as pd\n",
    "import yaml\n",
    "import multiprocessing as mp"
   ]
  },
  {
   "cell_type": "code",
   "execution_count": 2,
   "metadata": {},
   "outputs": [],
   "source": [
    "import warnings\n",
    "warnings.filterwarnings(action='once')\n",
    "#warnings.filterwarnings(action='error')\n",
    "warnings.filterwarnings(\"ignore\", \".*Using or importing the ABCs from *\")"
   ]
  },
  {
   "cell_type": "code",
   "execution_count": 3,
   "metadata": {},
   "outputs": [
    {
     "name": "stdout",
     "output_type": "stream",
     "text": [
      "env: OMP_NUM_THREADS=1\n"
     ]
    }
   ],
   "source": [
    "%env OMP_NUM_THREADS=1"
   ]
  },
  {
   "cell_type": "markdown",
   "metadata": {},
   "source": [
    "## 1. Function/Class Definitions\n",
    "\n"
   ]
  },
  {
   "cell_type": "code",
   "execution_count": 4,
   "metadata": {},
   "outputs": [
    {
     "name": "stderr",
     "output_type": "stream",
     "text": [
      "/home/ischoegl/.pyenv/versions/anaconda3-5.2.0/lib/python3.5/importlib/_bootstrap_external.py:445: ImportWarning: Not importing directory /home/ischoegl/.pyenv/versions/anaconda3-5.2.0/lib/python3.5/site-packages/mpl_toolkits: missing __init__\n",
      "  _warnings.warn(msg.format(portions[0]), ImportWarning)\n"
     ]
    },
    {
     "data": {
      "text/plain": [
       "'0.1.0'"
      ]
     },
     "execution_count": 4,
     "metadata": {},
     "output_type": "execute_result"
    }
   ],
   "source": [
    "import ctwrap as cw\n",
    "from ctwrap import modules as cw_modules\n",
    "from ctwrap import fileio as cw_fileio\n",
    "cw.__version__"
   ]
  },
  {
   "cell_type": "markdown",
   "metadata": {},
   "source": [
    "## 2. Simulations"
   ]
  },
  {
   "cell_type": "markdown",
   "metadata": {},
   "source": [
    "### 2.1 Parameters are specified via YAML file"
   ]
  },
  {
   "cell_type": "code",
   "execution_count": 5,
   "metadata": {},
   "outputs": [],
   "source": [
    "fname = 'ignition.yaml'"
   ]
  },
  {
   "cell_type": "code",
   "execution_count": 6,
   "metadata": {},
   "outputs": [
    {
     "name": "stdout",
     "output_type": "stream",
     "text": [
      "Simulation tasks: [0.4, 0.6, 0.8, 1.0, 1.2, 1.4, 1.6, 1.8]\n"
     ]
    },
    {
     "data": {
      "text/plain": [
       "<ctwrap.simulation.SimulationHandler at 0x7fd3cde2eef0>"
      ]
     },
     "execution_count": 6,
     "metadata": {},
     "output_type": "execute_result"
    }
   ],
   "source": [
    "# create variation object\n",
    "sim = cw.SimulationHandler.from_yaml(fname, verbosity=1)\n",
    "sim"
   ]
  },
  {
   "cell_type": "code",
   "execution_count": 7,
   "metadata": {},
   "outputs": [
    {
     "data": {
      "text/plain": [
       "{'chemistry': {'mechanism': 'h2o2.xml', 'path': ''},\n",
       " 'initial': {'P': [1.0, 'atmosphere', 'pressure'],\n",
       "  'T': [1000.0, 'kelvin', 'initial temperature'],\n",
       "  'fuel': 'H2',\n",
       "  'oxidizer': 'O2:1,AR:3.76',\n",
       "  'phi': [1.0, 'dimensionless', 'equivalence ratio']},\n",
       " 'simulation': {'atol': 1e-15,\n",
       "  'delta_t': 1e-05,\n",
       "  'max_time_step': 1e-06,\n",
       "  'n_points': 500,\n",
       "  'rtol': 1e-09}}"
      ]
     },
     "execution_count": 7,
     "metadata": {},
     "output_type": "execute_result"
    }
   ],
   "source": [
    "sim.configuration(1.0)"
   ]
  },
  {
   "cell_type": "markdown",
   "metadata": {},
   "source": [
    "### 2.2 Set up Simulation Object"
   ]
  },
  {
   "cell_type": "code",
   "execution_count": 8,
   "metadata": {},
   "outputs": [],
   "source": [
    "#obj = sim.generate('CH4',plugin=cw_plugins.template)"
   ]
  },
  {
   "cell_type": "code",
   "execution_count": 9,
   "metadata": {},
   "outputs": [],
   "source": [
    "#sim.dispatch(1.,plugin=cw_plugins.template,verbosity=1)"
   ]
  },
  {
   "cell_type": "code",
   "execution_count": null,
   "metadata": {},
   "outputs": [],
   "source": []
  },
  {
   "cell_type": "code",
   "execution_count": 10,
   "metadata": {},
   "outputs": [],
   "source": [
    "# %time\n",
    "# obj = sim.generate('CH4',cw_plugins.Ignition)\n",
    "# obj.initialize()\n",
    "# obj.preprocess()\n",
    "# obj.run()\n",
    "# obj.postprocess()"
   ]
  },
  {
   "cell_type": "code",
   "execution_count": 11,
   "metadata": {},
   "outputs": [
    {
     "name": "stdout",
     "output_type": "stream",
     "text": [
      " * processing `initial.phi`: 0.4\n",
      " * processing `initial.phi`: 0.6\n",
      " * processing `initial.phi`: 0.8\n",
      " * processing `initial.phi`: 1.0\n",
      " * processing `initial.phi`: 1.2\n",
      " * processing `initial.phi`: 1.4\n",
      " * processing `initial.phi`: 1.6\n",
      " * processing `initial.phi`: 1.8\n",
      "CPU times: user 3.99 s, sys: 4.8 ms, total: 4 s\n",
      "Wall time: 4.01 s\n"
     ]
    },
    {
     "data": {
      "text/plain": [
       "True"
      ]
     },
     "execution_count": 11,
     "metadata": {},
     "output_type": "execute_result"
    }
   ],
   "source": [
    "%%time\n",
    "sim.run_serial(plugin=cw_modules.ignition,verbosity=1)"
   ]
  },
  {
   "cell_type": "code",
   "execution_count": 12,
   "metadata": {},
   "outputs": [
    {
     "name": "stdout",
     "output_type": "stream",
     "text": [
      " * running simulation using 4 cores\n",
      " * starting Process-1\n",
      " * processing `initial.phi`: 0.4 (Process-1)\n",
      " * starting Process-2\n",
      " * processing `initial.phi`: 0.6 (Process-2)\n",
      " * starting Process-3\n",
      " * processing `initial.phi`: 0.8 (Process-3)\n",
      " * starting Process-4\n",
      " * processing `initial.phi`: 1.0 (Process-4)\n",
      "case `0.4` completed by Process-1\n",
      "case `1.0` completed by Process-4\n",
      "case `0.8` completed by Process-3\n",
      "case `0.6` completed by Process-2\n",
      " * terminating Process-1\n",
      " * terminating Process-4\n",
      " * terminating Process-3\n",
      " * terminating Process-2\n",
      "============================================================\n",
      "Summary:\n",
      " * case `0.4` completed by Process-1\n",
      " * case `1.0` completed by Process-4\n",
      " * case `0.8` completed by Process-3\n",
      " * case `0.6` completed by Process-2\n",
      " * case `1.2` completed by Process-1\n",
      " * case `1.4` completed by Process-4\n",
      " * case `1.6` completed by Process-3\n",
      " * case `1.8` completed by Process-2\n",
      "CPU times: user 12.3 ms, sys: 24.5 ms, total: 36.8 ms\n",
      "Wall time: 1.28 s\n"
     ]
    },
    {
     "data": {
      "text/plain": [
       "True"
      ]
     },
     "execution_count": 12,
     "metadata": {},
     "output_type": "execute_result"
    }
   ],
   "source": [
    "%%time\n",
    "sim.run_parallel(plugin=cw_modules.ignition)"
   ]
  },
  {
   "cell_type": "markdown",
   "metadata": {},
   "source": [
    "## 3. Create graphical output"
   ]
  },
  {
   "cell_type": "code",
   "execution_count": 13,
   "metadata": {},
   "outputs": [
    {
     "data": {
      "text/plain": [
       "dict_keys(['phi=0.8', 'phi=1.0', 'phi=1.4', 'phi=0.6', 'variation', 'phi=1.6', 'configuration', 'phi=1.8', 'phi=0.4', 'phi=1.2'])"
      ]
     },
     "execution_count": 13,
     "metadata": {},
     "output_type": "execute_result"
    }
   ],
   "source": [
    "# load data from output file\n",
    "data = cw_fileio.from_hdf(sim.oname)\n",
    "data.keys()"
   ]
  },
  {
   "cell_type": "code",
   "execution_count": 14,
   "metadata": {},
   "outputs": [],
   "source": [
    "config = data.pop('configuration')\n",
    "_ = data.pop('variation')"
   ]
  },
  {
   "cell_type": "code",
   "execution_count": 15,
   "metadata": {},
   "outputs": [],
   "source": [
    "import matplotlib.pyplot as plt\n",
    "import matplotlib as mpl\n",
    "\n",
    "col = mpl.rcParams['axes.prop_cycle'].by_key()['color']"
   ]
  },
  {
   "cell_type": "code",
   "execution_count": 16,
   "metadata": {},
   "outputs": [
    {
     "data": {
      "image/png": "[encoded data removed]",
      "text/plain": [
       "<Figure size 576x576 with 1 Axes>"
      ]
     },
     "metadata": {
      "needs_background": "light"
     },
     "output_type": "display_data"
    }
   ],
   "source": [
    "# create figure and adjust size/spacing\n",
    "fig, ax = plt.subplots(1) #\n",
    "fig.set_size_inches(8.,8.,forward=True)\n",
    "fig.subplots_adjust(hspace=0,bottom=.125,top=.9,left=.17,right=.955)\n",
    "\n",
    "# plot results\n",
    "for f, fuel in enumerate(data):\n",
    "    df = data[fuel]\n",
    "    ax.semilogx(1000*df['t (s)'],df['T (K)'],color=col[f],label=fuel) \n",
    "\n",
    "# add title/axis labels\n",
    "ax.set_title(r'IdealGasConstPressure Reactor')\n",
    "ax.set_xlabel('Time (ms)')\n",
    "ax.set_ylabel('Temperature (K)')\n",
    "\n",
    "# add legend\n",
    "leg = ax.legend(loc='upper left',#prop={'size':11},\n",
    "                title='Equivalence ratio') # % mech)\n",
    "leg.draw_frame(False) \n",
    "\n",
    "# show and save\n",
    "plt.show()"
   ]
  },
  {
   "cell_type": "code",
   "execution_count": null,
   "metadata": {},
   "outputs": [],
   "source": []
  }
 ],
 "metadata": {
  "kernelspec": {
   "display_name": "Python 3",
   "language": "python",
   "name": "python3"
  },
  "language_info": {
   "codemirror_mode": {
    "name": "ipython",
    "version": 3
   },
   "file_extension": ".py",
   "mimetype": "text/x-python",
   "name": "python",
   "nbconvert_exporter": "python",
   "pygments_lexer": "ipython3",
   "version": "3.5.6"
  }
 },
 "nbformat": 4,
 "nbformat_minor": 2
}
