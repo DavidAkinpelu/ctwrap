{
 "cells": [
  {
   "cell_type": "markdown",
   "metadata": {},
   "source": [
    "# Example for Ignition\n",
    "\n",
    "The following is a streamlined approach using YAML input to specify simulated conditions."
   ]
  },
  {
   "cell_type": "code",
   "execution_count": 1,
   "metadata": {},
   "outputs": [],
   "source": [
    "import numpy as np\n",
    "import cantera as ct\n",
    "import pandas as pd\n",
    "import yaml\n",
    "import multiprocessing as mp"
   ]
  },
  {
   "cell_type": "code",
   "execution_count": 2,
   "metadata": {},
   "outputs": [
    {
     "name": "stdout",
     "output_type": "stream",
     "text": [
      "env: OMP_NUM_THREADS=1\n"
     ]
    }
   ],
   "source": [
    "%env OMP_NUM_THREADS=1"
   ]
  },
  {
   "cell_type": "markdown",
   "metadata": {},
   "source": [
    "## 1. Function/Class Definitions\n",
    "\n"
   ]
  },
  {
   "cell_type": "code",
   "execution_count": 3,
   "metadata": {},
   "outputs": [
    {
     "data": {
      "text/plain": [
       "'0.2.0'"
      ]
     },
     "execution_count": 3,
     "metadata": {},
     "output_type": "execute_result"
    }
   ],
   "source": [
    "import zerod as zd\n",
    "import zerod.tools as zdt\n",
    "zd.__version__"
   ]
  },
  {
   "cell_type": "markdown",
   "metadata": {},
   "source": [
    "## 2. Simulations"
   ]
  },
  {
   "cell_type": "markdown",
   "metadata": {},
   "source": [
    "### 2.1 Parameters are specified via YAML file"
   ]
  },
  {
   "cell_type": "code",
   "execution_count": 4,
   "metadata": {},
   "outputs": [],
   "source": [
    "fname = 'ignition.yaml'"
   ]
  },
  {
   "cell_type": "code",
   "execution_count": 5,
   "metadata": {},
   "outputs": [
    {
     "name": "stdout",
     "output_type": "stream",
     "text": [
      "# example YAML file\n",
      "# specifies parameter variation for fuel\n",
      "variation:\n",
      "  entry: [initial, fuel] \n",
      "  values: ['CH4','C2H4','C3H8','CH3OCH3','C2H5OH']\n",
      "output:\n",
      "  format: h5\n",
      "  save_species: ['OH','CO'] # <-- True/False or tuple of species\n",
      "configuration:\n",
      "  initial:\n",
      "    T_initial: [1000., kelvin]\n",
      "    pressure: [101325.0, pascal]\n",
      "    phi: [1., dimensionless, 'equivalence ratio']\n",
      "    fuel: 'C3H8'\n",
      "    diluent: 'N2'\n",
      "    o2_percent: [21., dimensionless]\n",
      "  chemistry:\n",
      "    mechanism: AramcoMech1.3.xml\n",
      "    path: ../mech\n",
      "  simulation:\n",
      "    delta_t: 1.e-4\n",
      "    delta_Tmax: 25.\n",
      "    n_points: 5000\n",
      "    atol: 1.e-15\n",
      "    rtol: 1.e-9\n",
      "    max_time_step: 5.e-6\n",
      "version: 0.2.0 # minimum version of zerod code\n",
      "\n"
     ]
    }
   ],
   "source": [
    "# output contents of yml file\n",
    "with open(fname,'r') as yml:\n",
    "    print(yml.read())"
   ]
  },
  {
   "cell_type": "code",
   "execution_count": 6,
   "metadata": {},
   "outputs": [
    {
     "name": "stdout",
     "output_type": "stream",
     "text": [
      "Simulated values: ['CH4', 'C2H4', 'C3H8', 'CH3OCH3', 'C2H5OH']\n"
     ]
    },
    {
     "data": {
      "text/plain": [
       "<zerod._src.variation.Variation at 0x7f51e43cbeb8>"
      ]
     },
     "execution_count": 6,
     "metadata": {},
     "output_type": "execute_result"
    }
   ],
   "source": [
    "# create variation object\n",
    "nv = zd.Variation.from_yaml(fname, verbosity=1)\n",
    "nv"
   ]
  },
  {
   "cell_type": "markdown",
   "metadata": {},
   "source": [
    "### 2.2 Set up ZeroD Object"
   ]
  },
  {
   "cell_type": "code",
   "execution_count": 7,
   "metadata": {},
   "outputs": [
    {
     "name": "stdout",
     "output_type": "stream",
     "text": [
      " * processing `initial.fuel`: CH4\n",
      " * processing `initial.fuel`: C2H4\n",
      " * processing `initial.fuel`: C3H8\n",
      " * processing `initial.fuel`: CH3OCH3\n",
      " * processing `initial.fuel`: C2H5OH\n",
      "CPU times: user 2min 36s, sys: 8.56 s, total: 2min 44s\n",
      "Wall time: 2min 45s\n"
     ]
    },
    {
     "data": {
      "text/plain": [
       "True"
      ]
     },
     "execution_count": 7,
     "metadata": {},
     "output_type": "execute_result"
    }
   ],
   "source": [
    "%%time\n",
    "nv.run_serial(reactor=zd.Ignition)"
   ]
  },
  {
   "cell_type": "code",
   "execution_count": 8,
   "metadata": {},
   "outputs": [
    {
     "name": "stdout",
     "output_type": "stream",
     "text": [
      " * processing `initial.fuel`: CH4 (Process-1)\n",
      " * processing `initial.fuel`: C2H4 (Process-2)\n",
      " * processing `initial.fuel`: C3H8 (Process-3)\n",
      " * processing `initial.fuel`: CH3OCH3 (Process-4)\n",
      " * processing `initial.fuel`: C2H5OH (Process-5)\n",
      "CPU times: user 11.4 ms, sys: 30.5 ms, total: 42 ms\n",
      "Wall time: 1min 4s\n"
     ]
    },
    {
     "data": {
      "text/plain": [
       "True"
      ]
     },
     "execution_count": 8,
     "metadata": {},
     "output_type": "execute_result"
    }
   ],
   "source": [
    "%%time\n",
    "nv.run_parallel(reactor=zd.Ignition,number_of_processes=5)"
   ]
  },
  {
   "cell_type": "markdown",
   "metadata": {},
   "source": [
    "## 3. Create graphical output"
   ]
  },
  {
   "cell_type": "code",
   "execution_count": 9,
   "metadata": {},
   "outputs": [
    {
     "data": {
      "text/plain": [
       "dict_keys(['CH3OCH3', 'C3H8', 'C2H4', 'CH4', 'C2H5OH'])"
      ]
     },
     "execution_count": 9,
     "metadata": {},
     "output_type": "execute_result"
    }
   ],
   "source": [
    "# load data from output file\n",
    "data, cfg, var = zdt.from_hdf(nv.oname)\n",
    "data.keys()"
   ]
  },
  {
   "cell_type": "code",
   "execution_count": 10,
   "metadata": {},
   "outputs": [],
   "source": [
    "import matplotlib.pyplot as plt\n",
    "import matplotlib as mpl\n",
    "\n",
    "col = mpl.rcParams['axes.prop_cycle'].by_key()['color']"
   ]
  },
  {
   "cell_type": "code",
   "execution_count": 11,
   "metadata": {},
   "outputs": [
    {
     "data": {
      "image/png": "[encoded data removed]",
      "text/plain": [
       "<Figure size 576x576 with 1 Axes>"
      ]
     },
     "metadata": {
      "needs_background": "light"
     },
     "output_type": "display_data"
    }
   ],
   "source": [
    "# create figure and adjust size/spacing\n",
    "fig, ax = plt.subplots(1) #\n",
    "fig.set_size_inches(8.,8.,forward=True)\n",
    "fig.subplots_adjust(hspace=0,bottom=.125,top=.9,left=.17,right=.955)\n",
    "\n",
    "# plot results\n",
    "for f, fuel in enumerate(nv):\n",
    "    df = data[fuel]\n",
    "    ax.semilogx(1000*df['t (s)'],df['T (K)'],color=col[f],label=fuel) \n",
    "\n",
    "# add title/axis labels\n",
    "ax.set_title(r'Zero-D Model')\n",
    "ax.set_xlabel('Time (ms)')\n",
    "ax.set_ylabel('Temperature (K)')\n",
    "#ax.set_xlim([wall.xup,wall.xdn])\n",
    "\n",
    "# add legend\n",
    "#mech = reactor.chemistry['mechanism']\n",
    "leg = ax.legend(loc='upper left',#prop={'size':11},\n",
    "                title='Fuel') # % mech)\n",
    "leg.draw_frame(False) \n",
    "\n",
    "# show and save\n",
    "plt.show()"
   ]
  },
  {
   "cell_type": "code",
   "execution_count": null,
   "metadata": {},
   "outputs": [],
   "source": []
  }
 ],
 "metadata": {
  "kernelspec": {
   "display_name": "Python 3",
   "language": "python",
   "name": "python3"
  },
  "language_info": {
   "codemirror_mode": {
    "name": "ipython",
    "version": 3
   },
   "file_extension": ".py",
   "mimetype": "text/x-python",
   "name": "python",
   "nbconvert_exporter": "python",
   "pygments_lexer": "ipython3",
   "version": "3.5.6"
  }
 },
 "nbformat": 4,
 "nbformat_minor": 2
}
