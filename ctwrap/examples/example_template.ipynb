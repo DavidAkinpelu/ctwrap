{
 "cells": [
  {
   "cell_type": "markdown",
   "metadata": {},
   "source": [
    "# Basic Example: example_template\n",
    "\n",
    "Testing basic functions of the `ctwrap` package using the `template` module (which does not use Cantera, but just 'sleeps' for a specified amount of seconds). \n",
    "\n",
    "#### Simulation Module\n",
    "\n",
    "The overall structure of a Python simulation module wrapped by `ctwrap` is as follows:\n",
    "\n",
    "```Python\n",
    "def defaults():\n",
    "    \"\"\"Default arguments\"\"\"\n",
    "    \n",
    "    # define default configuration\n",
    "    ... \n",
    "    \n",
    "    # return a dictionary with default configuration \n",
    "    return default_config\n",
    "\n",
    "def run(name, **config):\n",
    "    \"\"\"Simulation code\"\"\"\n",
    "    \n",
    "    # execute code\n",
    "    ...\n",
    "    \n",
    "    # return a dictionary of pandas.DataFrame objects\n",
    "    return dict_of_data_frames\n",
    "\n",
    "# make the module run from the command line\n",
    "if __name__ == \"__main__\":\n",
    "\n",
    "    config = defaults()\n",
    "    run('main', **config)\n",
    "```\n",
    "\n",
    "#### YAML File\n",
    "\n",
    "A batch job of simulations is described by a YAML file:\n",
    "\n",
    "```yaml\n",
    "# example YAML file\n",
    "output:\n",
    "  format: null # returns None (no file output). Defaults to 'h5' otherwise\n",
    "variation:\n",
    "  entry: sleep # entry in 'defaults' that is replaced in batch operation\n",
    "  values: [0.4, 0.6, 0.8, 1.0, 1.2, 1.4, 1.6, 1.8]\n",
    "defaults:\n",
    "  sleep: 0.2\n",
    "ctwrap: 0.1.0\n",
    "    \n",
    "```"
   ]
  },
  {
   "cell_type": "markdown",
   "metadata": {},
   "source": [
    "### 1. Set up Simulation object\n",
    "\n",
    "The `Simulation` object wraps the module, which can be run with default arguments."
   ]
  },
  {
   "cell_type": "code",
   "execution_count": 1,
   "metadata": {},
   "outputs": [],
   "source": [
    "import ctwrap as cw"
   ]
  },
  {
   "cell_type": "code",
   "execution_count": 2,
   "metadata": {},
   "outputs": [
    {
     "data": {
      "text/plain": [
       "<ctwrap.simulation.Template at 0x7f47387ceb00>"
      ]
     },
     "execution_count": 2,
     "metadata": {},
     "output_type": "execute_result"
    }
   ],
   "source": [
    "sim = cw.Simulation.from_module(cw.modules.template)\n",
    "sim"
   ]
  },
  {
   "cell_type": "code",
   "execution_count": 3,
   "metadata": {},
   "outputs": [
    {
     "name": "stdout",
     "output_type": "stream",
     "text": [
      "    - `template`: sleeping for 0.2 seconds ...\n"
     ]
    }
   ],
   "source": [
    "sim.run()"
   ]
  },
  {
   "cell_type": "markdown",
   "metadata": {},
   "source": [
    "### 2. Set up Simulation Handler object\n",
    "\n",
    "The `SimulationHandler` object uses the YAML file as an input."
   ]
  },
  {
   "cell_type": "code",
   "execution_count": 4,
   "metadata": {},
   "outputs": [
    {
     "name": "stdout",
     "output_type": "stream",
     "text": [
      "Simulations for entry `sleep` with values: [0.4, 0.6, 0.8, 1.0, 1.2, 1.4, 1.6, 1.8]\n"
     ]
    },
    {
     "data": {
      "text/plain": [
       "<ctwrap.simulation.SimulationHandler at 0x7f47387cea20>"
      ]
     },
     "execution_count": 4,
     "metadata": {},
     "output_type": "execute_result"
    }
   ],
   "source": [
    "sh = cw.SimulationHandler.from_yaml('template.yaml', verbosity=1)\n",
    "sh"
   ]
  },
  {
   "cell_type": "code",
   "execution_count": 5,
   "metadata": {},
   "outputs": [
    {
     "data": {
      "text/plain": [
       "{'sleep_0.4': 0.4,\n",
       " 'sleep_0.6': 0.6,\n",
       " 'sleep_0.8': 0.8,\n",
       " 'sleep_1.0': 1.0,\n",
       " 'sleep_1.2': 1.2,\n",
       " 'sleep_1.4': 1.4,\n",
       " 'sleep_1.6': 1.6,\n",
       " 'sleep_1.8': 1.8}"
      ]
     },
     "execution_count": 5,
     "metadata": {},
     "output_type": "execute_result"
    }
   ],
   "source": [
    "# list simulation tasks\n",
    "sh.tasks"
   ]
  },
  {
   "cell_type": "markdown",
   "metadata": {},
   "source": [
    "### 3. Run serial simulation\n",
    "\n",
    "The `run_serial` function loops through simulation tasks."
   ]
  },
  {
   "cell_type": "code",
   "execution_count": 6,
   "metadata": {},
   "outputs": [
    {
     "name": "stdout",
     "output_type": "stream",
     "text": [
      "    - `template`: sleeping for 1.8 seconds ...\n",
      "    - `template`: sleeping for 1.2 seconds ...\n",
      "    - `template`: sleeping for 1.4 seconds ...\n",
      "    - `template`: sleeping for 0.6 seconds ...\n",
      "    - `template`: sleeping for 1.6 seconds ...\n",
      "    - `template`: sleeping for 1.0 seconds ...\n",
      "    - `template`: sleeping for 0.8 seconds ...\n",
      "    - `template`: sleeping for 0.4 seconds ...\n",
      "CPU times: user 30.9 ms, sys: 4.86 ms, total: 35.8 ms\n",
      "Wall time: 8.83 s\n"
     ]
    },
    {
     "data": {
      "text/plain": [
       "True"
      ]
     },
     "execution_count": 6,
     "metadata": {},
     "output_type": "execute_result"
    }
   ],
   "source": [
    "%%time\n",
    "sh.run_serial(sim, verbosity=0)"
   ]
  },
  {
   "cell_type": "markdown",
   "metadata": {},
   "source": [
    "### 4. Run parallel simulation\n",
    "\n",
    "The `run_parallel` function uses Python's `multiprocessing` to process multiple single-threaded simulation jobs at the same time."
   ]
  },
  {
   "cell_type": "code",
   "execution_count": 7,
   "metadata": {},
   "outputs": [
    {
     "name": "stdout",
     "output_type": "stream",
     "text": [
      " * running simulation using 4 cores\n",
      " * processing `sleep_1.8` (Process-1)\n",
      "    - `template`: sleeping for 1.8 seconds ...\n",
      " * processing `sleep_1.2` (Process-2)\n",
      "    - `template`: sleeping for 1.2 seconds ...\n",
      " * processing `sleep_1.4` (Process-3)\n",
      "    - `template`: sleeping for 1.4 seconds ...\n",
      " * processing `sleep_0.6` (Process-4)\n",
      "    - `template`: sleeping for 0.6 seconds ...\n",
      " * processing `sleep_1.6` (Process-4)\n",
      "    - `template`: sleeping for 1.6 seconds ...\n",
      " * processing `sleep_1.0` (Process-2)\n",
      "    - `template`: sleeping for 1.0 seconds ...\n",
      " * processing `sleep_0.8` (Process-3)\n",
      "    - `template`: sleeping for 0.8 seconds ...\n",
      " * processing `sleep_0.4` (Process-1)\n",
      "    - `template`: sleeping for 0.4 seconds ...\n",
      "CPU times: user 21.8 ms, sys: 27.4 ms, total: 49.2 ms\n",
      "Wall time: 2.25 s\n"
     ]
    },
    {
     "data": {
      "text/plain": [
       "True"
      ]
     },
     "execution_count": 7,
     "metadata": {},
     "output_type": "execute_result"
    }
   ],
   "source": [
    "%%time\n",
    "sh.run_parallel(sim, verbosity=1)"
   ]
  },
  {
   "cell_type": "code",
   "execution_count": null,
   "metadata": {},
   "outputs": [],
   "source": []
  }
 ],
 "metadata": {
  "kernelspec": {
   "display_name": "Python 3",
   "language": "python",
   "name": "python3"
  },
  "language_info": {
   "codemirror_mode": {
    "name": "ipython",
    "version": 3
   },
   "file_extension": ".py",
   "mimetype": "text/x-python",
   "name": "python",
   "nbconvert_exporter": "python",
   "pygments_lexer": "ipython3",
   "version": "3.5.6"
  }
 },
 "nbformat": 4,
 "nbformat_minor": 2
}
