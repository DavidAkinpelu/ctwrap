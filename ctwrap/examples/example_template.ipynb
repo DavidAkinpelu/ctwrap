{
 "cells": [
  {
   "cell_type": "markdown",
   "metadata": {},
   "source": [
    "# Basic Example: example_template\n",
    "\n",
    "Testing basic functions of the `ctwrap` package using the `template` module (which does not use Cantera)."
   ]
  },
  {
   "cell_type": "code",
   "execution_count": 1,
   "metadata": {},
   "outputs": [],
   "source": [
    "import ctwrap as cw"
   ]
  },
  {
   "cell_type": "markdown",
   "metadata": {},
   "source": [
    "### 1. Set up Simulation object"
   ]
  },
  {
   "cell_type": "code",
   "execution_count": 2,
   "metadata": {},
   "outputs": [
    {
     "data": {
      "text/plain": [
       "<ctwrap.simulation.Template at 0x7f6813048e10>"
      ]
     },
     "execution_count": 2,
     "metadata": {},
     "output_type": "execute_result"
    }
   ],
   "source": [
    "sim = cw.Simulation.from_module(cw.modules.template)\n",
    "sim"
   ]
  },
  {
   "cell_type": "code",
   "execution_count": 3,
   "metadata": {},
   "outputs": [
    {
     "name": "stdout",
     "output_type": "stream",
     "text": [
      "    - `template`: sleeping for 0.2 seconds ...\n"
     ]
    }
   ],
   "source": [
    "sim.run()"
   ]
  },
  {
   "cell_type": "markdown",
   "metadata": {},
   "source": [
    "### 2. Set up Simulation Handler object"
   ]
  },
  {
   "cell_type": "code",
   "execution_count": 4,
   "metadata": {},
   "outputs": [
    {
     "name": "stdout",
     "output_type": "stream",
     "text": [
      "Simulations for entry `sleep` with values: [0.4, 0.6, 0.8, 1.0, 1.2, 1.4, 1.6, 1.8]\n"
     ]
    },
    {
     "data": {
      "text/plain": [
       "<ctwrap.simulation.SimulationHandler at 0x7f68137fdf98>"
      ]
     },
     "execution_count": 4,
     "metadata": {},
     "output_type": "execute_result"
    }
   ],
   "source": [
    "sh = cw.SimulationHandler.from_yaml('template.yaml', verbosity=1)\n",
    "sh"
   ]
  },
  {
   "cell_type": "code",
   "execution_count": 5,
   "metadata": {},
   "outputs": [
    {
     "data": {
      "text/plain": [
       "{'format': None,\n",
       " 'path': None,\n",
       " 'force_overwrite': True,\n",
       " 'name': 'template',\n",
       " 'file_name': None}"
      ]
     },
     "execution_count": 5,
     "metadata": {},
     "output_type": "execute_result"
    }
   ],
   "source": [
    "sh._output"
   ]
  },
  {
   "cell_type": "markdown",
   "metadata": {},
   "source": [
    "### 3. Run serial simulation"
   ]
  },
  {
   "cell_type": "code",
   "execution_count": 6,
   "metadata": {},
   "outputs": [
    {
     "name": "stdout",
     "output_type": "stream",
     "text": [
      " * processing `sleep_0.4`\n",
      "    - `template`: sleeping for 0.4 seconds ...\n",
      " * processing `sleep_0.6`\n",
      "    - `template`: sleeping for 0.6 seconds ...\n",
      " * processing `sleep_0.8`\n",
      "    - `template`: sleeping for 0.8 seconds ...\n",
      " * processing `sleep_1.0`\n",
      "    - `template`: sleeping for 1.0 seconds ...\n",
      " * processing `sleep_1.2`\n",
      "    - `template`: sleeping for 1.2 seconds ...\n",
      " * processing `sleep_1.4`\n",
      "    - `template`: sleeping for 1.4 seconds ...\n",
      " * processing `sleep_1.6`\n",
      "    - `template`: sleeping for 1.6 seconds ...\n",
      " * processing `sleep_1.8`\n",
      "    - `template`: sleeping for 1.8 seconds ...\n",
      "CPU times: user 21.9 ms, sys: 1.74 ms, total: 23.6 ms\n",
      "Wall time: 8.82 s\n"
     ]
    },
    {
     "data": {
      "text/plain": [
       "True"
      ]
     },
     "execution_count": 6,
     "metadata": {},
     "output_type": "execute_result"
    }
   ],
   "source": [
    "%%time\n",
    "sh.run_serial(sim, verbosity=1)"
   ]
  },
  {
   "cell_type": "markdown",
   "metadata": {},
   "source": [
    "### 4. Run parallel simulation"
   ]
  },
  {
   "cell_type": "code",
   "execution_count": 7,
   "metadata": {},
   "outputs": [
    {
     "name": "stdout",
     "output_type": "stream",
     "text": [
      "    - `template`: sleeping for 0.4 seconds ...\n",
      "    - `template`: sleeping for 0.6 seconds ...\n",
      "    - `template`: sleeping for 0.8 seconds ...\n",
      "    - `template`: sleeping for 1.0 seconds ...\n",
      "    - `template`: sleeping for 1.2 seconds ...\n",
      "    - `template`: sleeping for 1.4 seconds ...\n",
      "    - `template`: sleeping for 1.6 seconds ...\n",
      "    - `template`: sleeping for 1.8 seconds ...\n",
      "CPU times: user 19.7 ms, sys: 42.1 ms, total: 61.9 ms\n",
      "Wall time: 1.89 s\n"
     ]
    },
    {
     "data": {
      "text/plain": [
       "True"
      ]
     },
     "execution_count": 7,
     "metadata": {},
     "output_type": "execute_result"
    }
   ],
   "source": [
    "%%time\n",
    "sh.run_parallel(sim, verbosity=0)"
   ]
  },
  {
   "cell_type": "code",
   "execution_count": null,
   "metadata": {},
   "outputs": [],
   "source": []
  }
 ],
 "metadata": {
  "kernelspec": {
   "display_name": "Python 3",
   "language": "python",
   "name": "python3"
  },
  "language_info": {
   "codemirror_mode": {
    "name": "ipython",
    "version": 3
   },
   "file_extension": ".py",
   "mimetype": "text/x-python",
   "name": "python",
   "nbconvert_exporter": "python",
   "pygments_lexer": "ipython3",
   "version": "3.7.2"
  }
 },
 "nbformat": 4,
 "nbformat_minor": 2
}
