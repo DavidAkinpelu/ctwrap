{
 "cells": [
  {
   "cell_type": "markdown",
   "metadata": {},
   "source": [
    "## example_template\n",
    "\n",
    "Testing basic functions of the `ctwrap` package using the `template` module."
   ]
  },
  {
   "cell_type": "code",
   "execution_count": 1,
   "metadata": {},
   "outputs": [],
   "source": [
    "import cantera as ct\n",
    "\n",
    "import ctwrap as cw\n",
    "import ctwrap.modules as cwm"
   ]
  },
  {
   "cell_type": "code",
   "execution_count": 2,
   "metadata": {},
   "outputs": [
    {
     "name": "stdout",
     "output_type": "stream",
     "text": [
      "env: OMP_NUM_THREADS=1\n"
     ]
    }
   ],
   "source": [
    "%env OMP_NUM_THREADS=1"
   ]
  },
  {
   "cell_type": "code",
   "execution_count": 3,
   "metadata": {},
   "outputs": [
    {
     "data": {
      "text/plain": [
       "<function ctwrap.modules.template.template(name, sleep=0.2, **kwargs)>"
      ]
     },
     "execution_count": 3,
     "metadata": {},
     "output_type": "execute_result"
    }
   ],
   "source": [
    "plg = cwm.template\n",
    "plg"
   ]
  },
  {
   "cell_type": "code",
   "execution_count": 4,
   "metadata": {},
   "outputs": [
    {
     "name": "stdout",
     "output_type": "stream",
     "text": [
      "Simulation tasks: [0.4, 0.6, 0.8, 1.0, 1.2, 1.4, 1.6, 1.8]\n"
     ]
    },
    {
     "data": {
      "text/plain": [
       "<ctwrap.simulation.SimulationHandler at 0x7f34347e1eb8>"
      ]
     },
     "execution_count": 4,
     "metadata": {},
     "output_type": "execute_result"
    }
   ],
   "source": [
    "s = cw.SimulationHandler.from_yaml('template.yaml', verbosity=1)\n",
    "s"
   ]
  },
  {
   "cell_type": "code",
   "execution_count": 5,
   "metadata": {
    "scrolled": true
   },
   "outputs": [
    {
     "data": {
      "text/plain": [
       "[0.4, 0.6, 0.8, 1.0, 1.2, 1.4, 1.6, 1.8]"
      ]
     },
     "execution_count": 5,
     "metadata": {},
     "output_type": "execute_result"
    }
   ],
   "source": [
    "s.tasks"
   ]
  },
  {
   "cell_type": "markdown",
   "metadata": {},
   "source": [
    "### Run in serial/parallel"
   ]
  },
  {
   "cell_type": "code",
   "execution_count": 6,
   "metadata": {},
   "outputs": [
    {
     "name": "stdout",
     "output_type": "stream",
     "text": [
      " * processing `sleep`: 0.4\n",
      "    - `template`: sleeping for 0.4 seconds ...\n",
      " * processing `sleep`: 0.6\n",
      "    - `template`: sleeping for 0.6 seconds ...\n",
      " * processing `sleep`: 0.8\n",
      "    - `template`: sleeping for 0.8 seconds ...\n",
      " * processing `sleep`: 1.0\n",
      "    - `template`: sleeping for 1.0 seconds ...\n",
      " * processing `sleep`: 1.2\n",
      "    - `template`: sleeping for 1.2 seconds ...\n",
      " * processing `sleep`: 1.4\n",
      "    - `template`: sleeping for 1.4 seconds ...\n",
      " * processing `sleep`: 1.6\n",
      "    - `template`: sleeping for 1.6 seconds ...\n",
      " * processing `sleep`: 1.8\n",
      "    - `template`: sleeping for 1.8 seconds ...\n",
      "CPU times: user 34.5 ms, sys: 3.63 ms, total: 38.2 ms\n",
      "Wall time: 8.83 s\n"
     ]
    },
    {
     "data": {
      "text/plain": [
       "True"
      ]
     },
     "execution_count": 6,
     "metadata": {},
     "output_type": "execute_result"
    }
   ],
   "source": [
    "%%time\n",
    "s.run_serial(plugin=plg, verbosity=1)"
   ]
  },
  {
   "cell_type": "code",
   "execution_count": 7,
   "metadata": {},
   "outputs": [
    {
     "name": "stdout",
     "output_type": "stream",
     "text": [
      "    - `template`: sleeping for 0.4 seconds ...\n",
      "    - `template`: sleeping for 0.6 seconds ...\n",
      "    - `template`: sleeping for 0.8 seconds ...\n",
      "    - `template`: sleeping for 1.0 seconds ...\n",
      "    - `template`: sleeping for 1.2 seconds ...\n",
      "    - `template`: sleeping for 1.4 seconds ...\n",
      "    - `template`: sleeping for 1.6 seconds ...\n",
      "    - `template`: sleeping for 1.8 seconds ...\n",
      "CPU times: user 13.9 ms, sys: 25.1 ms, total: 39 ms\n",
      "Wall time: 2.85 s\n"
     ]
    },
    {
     "data": {
      "text/plain": [
       "True"
      ]
     },
     "execution_count": 7,
     "metadata": {},
     "output_type": "execute_result"
    }
   ],
   "source": [
    "%%time\n",
    "s.run_parallel(plugin=plg, verbosity=0)"
   ]
  },
  {
   "cell_type": "code",
   "execution_count": 8,
   "metadata": {},
   "outputs": [],
   "source": [
    "#s.run_parallel(plugin=plg, verbosity=1)"
   ]
  },
  {
   "cell_type": "code",
   "execution_count": null,
   "metadata": {},
   "outputs": [],
   "source": []
  }
 ],
 "metadata": {
  "kernelspec": {
   "display_name": "Python 3",
   "language": "python",
   "name": "python3"
  },
  "language_info": {
   "codemirror_mode": {
    "name": "ipython",
    "version": 3
   },
   "file_extension": ".py",
   "mimetype": "text/x-python",
   "name": "python",
   "nbconvert_exporter": "python",
   "pygments_lexer": "ipython3",
   "version": "3.5.6"
  }
 },
 "nbformat": 4,
 "nbformat_minor": 2
}
