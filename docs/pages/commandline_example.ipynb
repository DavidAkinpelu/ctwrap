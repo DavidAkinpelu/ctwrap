{
 "cells": [
  {
   "cell_type": "markdown",
   "metadata": {},
   "source": [
    "# Running Simulations from the Commandline\n",
    "\n",
    "All inputs are specified in YAML configuration files.\n",
    "\n",
    "Example makes are run on the command line within jupyter (using [system magic](https://ipython.readthedocs.io/en/stable/interactive/magics.html#magic-system) via `!`)"
   ]
  },
  {
   "cell_type": "markdown",
   "metadata": {},
   "source": [
    "## 1. Help"
   ]
  },
  {
   "cell_type": "code",
   "execution_count": 1,
   "metadata": {},
   "outputs": [
    {
     "name": "stdout",
     "output_type": "stream",
     "text": [
      "usage: ctwrap [-h] [--output OUTPUT] [-v] [--parallel] module_name yaml_config\r\n",
      "\r\n",
      "Simulation of constant pressure ignition (ctwrap).\r\n",
      "\r\n",
      "positional arguments:\r\n",
      "  module_name      wrapped module (specifies Python import path as\r\n",
      "                   <module_name> or ctwrap.modules.<module_name>)\r\n",
      "  yaml_config      yaml configuration file\r\n",
      "\r\n",
      "optional arguments:\r\n",
      "  -h, --help       show this help message and exit\r\n",
      "  --output OUTPUT  name of output file\r\n",
      "  -v, --verbosity  verbosity level\r\n",
      "  --parallel       run parallel calculations\r\n"
     ]
    }
   ],
   "source": [
    "# display help \n",
    "! ctwrap --help"
   ]
  },
  {
   "cell_type": "markdown",
   "metadata": {},
   "source": [
    "## 2. `minimal` Module"
   ]
  },
  {
   "cell_type": "code",
   "execution_count": 2,
   "metadata": {},
   "outputs": [
    {
     "name": "stdout",
     "output_type": "stream",
     "text": [
      "    - `minimal`: sleeping for 0.4 seconds ...\n",
      "    - `minimal`: sleeping for 0.6 seconds ...\n",
      "    - `minimal`: sleeping for 0.8 seconds ...\n",
      "    - `minimal`: sleeping for 1.0 seconds ...\n",
      "    - `minimal`: sleeping for 1.2 seconds ...\n",
      "    - `minimal`: sleeping for 1.4 seconds ...\n",
      "    - `minimal`: sleeping for 1.6 seconds ...\n",
      "    - `minimal`: sleeping for 1.8 seconds ...\n",
      "CPU times: user 418 ms, sys: 105 ms, total: 523 ms\n",
      "Wall time: 9.7 s\n"
     ]
    }
   ],
   "source": [
    "%%time\n",
    "# run minimal module \n",
    "! ctwrap minimal ../../yaml/minimal.yaml"
   ]
  },
  {
   "cell_type": "code",
   "execution_count": null,
   "metadata": {},
   "outputs": [
    {
     "name": "stdout",
     "output_type": "stream",
     "text": [
      "    - `minimal`: sleeping for 0.4 seconds ...\n",
      "    - `minimal`: sleeping for 0.6 seconds ...\n",
      "    - `minimal`: sleeping for 0.8 seconds ...\n",
      "    - `minimal`: sleeping for 1.0 seconds ...\n",
      "    - `minimal`: sleeping for 1.2 seconds ...\n",
      "    - `minimal`: sleeping for 1.4 seconds ...\n",
      "    - `minimal`: sleeping for 1.6 seconds ...\n",
      "    - `minimal`: sleeping for 1.8 seconds ...\n"
     ]
    }
   ],
   "source": [
    "%%time\n",
    "# run minimal module\n",
    "! ctwrap minimal ../../yaml/minimal.yaml --parallel"
   ]
  },
  {
   "cell_type": "markdown",
   "metadata": {},
   "source": [
    "## 3. `ignition` Module"
   ]
  },
  {
   "cell_type": "code",
   "execution_count": null,
   "metadata": {},
   "outputs": [],
   "source": [
    "%%time\n",
    "# run parameter variation\n",
    "! ctwrap ignition ../../yaml/ignition.yaml -v --output ignition_example.h5"
   ]
  },
  {
   "cell_type": "code",
   "execution_count": null,
   "metadata": {},
   "outputs": [],
   "source": [
    "# delete output file\n",
    "! rm ignition_example.h5"
   ]
  },
  {
   "cell_type": "code",
   "execution_count": null,
   "metadata": {},
   "outputs": [],
   "source": [
    "%%time\n",
    "# run parameter variation\n",
    "! ctwrap ignition ../../yaml/ignition.yaml -v --output ignition_example.h5 --parallel"
   ]
  },
  {
   "cell_type": "markdown",
   "metadata": {},
   "source": [
    "## 4. `adiabatic_flame` Module"
   ]
  },
  {
   "cell_type": "code",
   "execution_count": null,
   "metadata": {},
   "outputs": [],
   "source": [
    "%%time\n",
    "# run parameter variation\n",
    "! ctwrap adiabatic_flame ../../yaml/adiabatic_flame.yaml --output adiabatic_flame_example"
   ]
  },
  {
   "cell_type": "code",
   "execution_count": null,
   "metadata": {},
   "outputs": [],
   "source": [
    "# delete output file\n",
    "!rm adiabatic_flame_example.h5"
   ]
  },
  {
   "cell_type": "code",
   "execution_count": null,
   "metadata": {},
   "outputs": [],
   "source": [
    "%%time\n",
    "# run parameter variation\n",
    "! ctwrap adiabatic_flame ../../yaml/adiabatic_flame.yaml --output adiabatic_flame_example.h5 --parallel"
   ]
  },
  {
   "cell_type": "code",
   "execution_count": null,
   "metadata": {},
   "outputs": [],
   "source": []
  }
 ],
 "metadata": {
  "kernelspec": {
   "display_name": "Python 3",
   "language": "python",
   "name": "python3"
  },
  "language_info": {
   "codemirror_mode": {
    "name": "ipython",
    "version": 3
   },
   "file_extension": ".py",
   "mimetype": "text/x-python",
   "name": "python",
   "nbconvert_exporter": "python",
   "pygments_lexer": "ipython3",
   "version": "3.7.9"
  }
 },
 "nbformat": 4,
 "nbformat_minor": 2
}
