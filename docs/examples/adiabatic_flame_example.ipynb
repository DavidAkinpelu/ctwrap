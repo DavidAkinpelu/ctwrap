{
 "cells": [
  {
   "cell_type": "markdown",
   "metadata": {},
   "source": [
    "# Adiabatic Flame Example\n",
    "\n",
    "This example uses `ctwrap` for one-dimensional adiabatic premixed flame simulations defined by the simulation module `adiabatic_flame` (`ctwrap.modules.adiabatic_flame`)."
   ]
  },
  {
   "cell_type": "markdown",
   "metadata": {},
   "source": [
    "## 1. Function/Class Definitions"
   ]
  },
  {
   "cell_type": "code",
   "execution_count": 1,
   "metadata": {},
   "outputs": [],
   "source": [
    "import cantera as ct\n",
    "import ctwrap as cw\n",
    "import json"
   ]
  },
  {
   "cell_type": "markdown",
   "metadata": {},
   "source": [
    "## 2. Simulations"
   ]
  },
  {
   "cell_type": "markdown",
   "metadata": {},
   "source": [
    "### 2.1 Create Simulation Object\n",
    "\n",
    "Uses a module in the `modules` folder. Modules do not have to depend on `ctwrap`."
   ]
  },
  {
   "cell_type": "code",
   "execution_count": 2,
   "metadata": {},
   "outputs": [
    {
     "data": {
      "text/plain": [
       "<ctwrap.simulation.AdiabaticFlame at 0x7f4e4ecea450>"
      ]
     },
     "execution_count": 2,
     "metadata": {},
     "output_type": "execute_result"
    }
   ],
   "source": [
    "sim = cw.Simulation.from_module(cw.modules.adiabatic_flame)\n",
    "sim"
   ]
  },
  {
   "cell_type": "markdown",
   "metadata": {},
   "source": [
    "### 2.2 Create Simulation Handler"
   ]
  },
  {
   "cell_type": "code",
   "execution_count": 3,
   "metadata": {},
   "outputs": [
    {
     "name": "stdout",
     "output_type": "stream",
     "text": [
      "Simulations for entry `upstream.phi` with values: [0.4, 0.6, 0.8, 1.0, 1.2, 1.4, 1.6, 1.8, 2.0, 2.2, 2.4, 2.6]\n"
     ]
    },
    {
     "data": {
      "text/plain": [
       "<ctwrap.simulation.SimulationHandler at 0x7f4ea9f8df50>"
      ]
     },
     "execution_count": 3,
     "metadata": {},
     "output_type": "execute_result"
    }
   ],
   "source": [
    "fname = '../../yaml/adiabatic_flame.yaml'\n",
    "s = cw.SimulationHandler.from_yaml(fname, verbosity=1)\n",
    "s"
   ]
  },
  {
   "cell_type": "markdown",
   "metadata": {},
   "source": [
    "### 2.3 Run Simulation Tasks in Parallel"
   ]
  },
  {
   "cell_type": "code",
   "execution_count": 4,
   "metadata": {},
   "outputs": [
    {
     "name": "stdout",
     "output_type": "stream",
     "text": [
      "    output_01: mixture-averaged flamespeed = 0.924044 m/s\n",
      "    output_02: mixture-averaged flamespeed = 1.735115 m/s\n",
      "    output_01: multi-component flamespeed  = 0.934298 m/s\n",
      "    output_02: multi-component flamespeed  = 1.720494 m/s\n",
      "    output_03: mixture-averaged flamespeed = 2.321981 m/s\n",
      "    output_00: mixture-averaged flamespeed = 0.201060 m/s\n",
      "    output_03: multi-component flamespeed  = 2.289830 m/s\n",
      "    output_00: multi-component flamespeed  = 0.215240 m/s\n",
      "    output_04: mixture-averaged flamespeed = 2.716008 m/s\n",
      "    output_05: mixture-averaged flamespeed = 2.951058 m/s    output_04: multi-component flamespeed  = 2.671847 m/s\n",
      "\n",
      "    output_05: multi-component flamespeed  = 2.899538 m/s\n",
      "    output_07: mixture-averaged flamespeed = 3.045362 m/s\n",
      "    output_07: multi-component flamespeed  = 2.992064 m/s\n",
      "    output_06: mixture-averaged flamespeed = 3.051440 m/s\n",
      "    output_06: multi-component flamespeed  = 2.997036 m/s\n",
      "    output_08: mixture-averaged flamespeed = 2.973848 m/s\n",
      "    output_08: multi-component flamespeed  = 2.924855 m/s\n",
      "    output_09: mixture-averaged flamespeed = 2.860112 m/s\n",
      "    output_10: mixture-averaged flamespeed = 2.726691 m/s\n",
      "    output_09: multi-component flamespeed  = 2.817618 m/s\n",
      "    output_10: multi-component flamespeed  = 2.691153 m/s\n",
      "    output_11: mixture-averaged flamespeed = 2.586446 m/s\n",
      "    output_11: multi-component flamespeed  = 2.558387 m/s\n",
      "CPU times: user 28 ms, sys: 38.1 ms, total: 66.1 ms\n",
      "Wall time: 2.27 s\n"
     ]
    },
    {
     "data": {
      "text/plain": [
       "True"
      ]
     },
     "execution_count": 4,
     "metadata": {},
     "output_type": "execute_result"
    }
   ],
   "source": [
    "%%time\n",
    "s.run_parallel(sim, verbosity=0)"
   ]
  },
  {
   "cell_type": "markdown",
   "metadata": {},
   "source": [
    "## 3. Create Graphical Output"
   ]
  },
  {
   "cell_type": "code",
   "execution_count": 5,
   "metadata": {},
   "outputs": [],
   "source": [
    "import h5py\n",
    "import matplotlib.pyplot as plt\n",
    "import matplotlib as mpl\n",
    "col = mpl.rcParams['axes.prop_cycle'].by_key()['color']\n",
    "n_col = len(col)"
   ]
  },
  {
   "cell_type": "markdown",
   "metadata": {},
   "source": [
    "### 3.1 Load Data"
   ]
  },
  {
   "cell_type": "code",
   "execution_count": 6,
   "metadata": {},
   "outputs": [],
   "source": [
    "data = h5py.File(s.output_name, 'r')"
   ]
  },
  {
   "cell_type": "code",
   "execution_count": 7,
   "metadata": {},
   "outputs": [
    {
     "data": {
      "text/plain": [
       "<KeysViewHDF5 ['output_00_mix', 'output_00_multi', 'output_01_mix', 'output_01_multi', 'output_02_mix', 'output_02_multi', 'output_03_mix', 'output_03_multi', 'output_04_mix', 'output_04_multi', 'output_05_mix', 'output_05_multi', 'output_06_mix', 'output_06_multi', 'output_07_mix', 'output_07_multi', 'output_08_mix', 'output_08_multi', 'output_09_mix', 'output_09_multi', 'output_10_mix', 'output_10_multi', 'output_11_mix', 'output_11_multi']>"
      ]
     },
     "execution_count": 7,
     "metadata": {},
     "output_type": "execute_result"
    }
   ],
   "source": [
    "data.keys()"
   ]
  },
  {
   "cell_type": "code",
   "execution_count": 8,
   "metadata": {},
   "outputs": [
    {
     "data": {
      "text/plain": [
       "<KeysViewHDF5 ['defaults', 'strategy']>"
      ]
     },
     "execution_count": 8,
     "metadata": {},
     "output_type": "execute_result"
    }
   ],
   "source": [
    "data.attrs.keys()"
   ]
  },
  {
   "cell_type": "code",
   "execution_count": 9,
   "metadata": {},
   "outputs": [
    {
     "data": {
      "text/plain": [
       "{'sequence': {'upstream.phi': [0.4,\n",
       "   0.6,\n",
       "   0.8,\n",
       "   1.0,\n",
       "   1.2,\n",
       "   1.4,\n",
       "   1.6,\n",
       "   1.8,\n",
       "   2.0,\n",
       "   2.2,\n",
       "   2.4,\n",
       "   2.6]},\n",
       " 'tasks': ['upstream.phi_0.4',\n",
       "  'upstream.phi_0.6',\n",
       "  'upstream.phi_0.8',\n",
       "  'upstream.phi_1.0',\n",
       "  'upstream.phi_1.2',\n",
       "  'upstream.phi_1.4',\n",
       "  'upstream.phi_1.6',\n",
       "  'upstream.phi_1.8',\n",
       "  'upstream.phi_2.0',\n",
       "  'upstream.phi_2.2',\n",
       "  'upstream.phi_2.4',\n",
       "  'upstream.phi_2.6']}"
      ]
     },
     "execution_count": 9,
     "metadata": {},
     "output_type": "execute_result"
    }
   ],
   "source": [
    "var = json.loads(data.attrs['strategy'])\n",
    "var"
   ]
  },
  {
   "cell_type": "code",
   "execution_count": 10,
   "metadata": {},
   "outputs": [
    {
     "data": {
      "text/plain": [
       "{'upstream': {'T': '300. kelvin',\n",
       "  'P': '1. atmosphere',\n",
       "  'phi': 0.55,\n",
       "  'fuel': 'H2',\n",
       "  'oxidizer': 'O2:1,AR:5'},\n",
       " 'chemistry': {'mechanism': 'h2o2.yaml'},\n",
       " 'domain': {'width': '30 millimeter'}}"
      ]
     },
     "execution_count": 10,
     "metadata": {},
     "output_type": "execute_result"
    }
   ],
   "source": [
    "default = json.loads(data.attrs['defaults'])\n",
    "default"
   ]
  },
  {
   "cell_type": "code",
   "execution_count": 11,
   "metadata": {},
   "outputs": [
    {
     "data": {
      "text/plain": [
       "{'T': '300. kelvin',\n",
       " 'P': '1. atmosphere',\n",
       " 'phi': 0.55,\n",
       " 'fuel': 'H2',\n",
       " 'oxidizer': 'O2:1,AR:5'}"
      ]
     },
     "execution_count": 11,
     "metadata": {},
     "output_type": "execute_result"
    }
   ],
   "source": [
    "up = default.get('upstream')\n",
    "up"
   ]
  },
  {
   "cell_type": "code",
   "execution_count": 12,
   "metadata": {},
   "outputs": [
    {
     "data": {
      "text/plain": [
       "[0.4, 0.6, 0.8, 1.0, 1.2, 1.4, 1.6, 1.8, 2.0, 2.2, 2.4, 2.6]"
      ]
     },
     "execution_count": 12,
     "metadata": {},
     "output_type": "execute_result"
    }
   ],
   "source": [
    "phi = var['sequence'].get('upstream.phi')\n",
    "phi"
   ]
  },
  {
   "cell_type": "code",
   "execution_count": 13,
   "metadata": {},
   "outputs": [],
   "source": [
    "mix = {k.split('<')[0]: dict(data[k]['flame']) for k in data if 'mix' in k}\n",
    "mlt = {k.split('<')[0]: dict(data[k]['flame']) for k in data if 'multi' in k}"
   ]
  },
  {
   "cell_type": "markdown",
   "metadata": {},
   "source": [
    "### 3.2 Plot\n",
    "\n",
    "Plot flame speeds and temperature profiles"
   ]
  },
  {
   "cell_type": "code",
   "execution_count": 14,
   "metadata": {},
   "outputs": [
    {
     "data": {
      "image/png": "[encoded data removed]",
      "text/plain": [
       "<Figure size 432x288 with 1 Axes>"
      ]
     },
     "metadata": {
      "needs_background": "light"
     },
     "output_type": "display_data"
    }
   ],
   "source": [
    "# create figure\n",
    "fig, ax = plt.subplots(1)\n",
    "\n",
    "# plot results\n",
    "u_mix = [ mix[t]['velocity'][0] for t in mix]\n",
    "u_mlt = [ mlt[t]['velocity'][0] for t in mlt]\n",
    "\n",
    "ax.plot(phi, u_mix, marker='o', \n",
    "            linestyle='none', label='mixture-averaged') \n",
    "ax.plot(phi, u_mlt, marker='s', \n",
    "            markerfacecolor='none',\n",
    "            linestyle='none', label='multi-component') \n",
    "\n",
    "# add title/axis labels\n",
    "ax.set_xlabel('Equivalence ratio (-)')\n",
    "ax.set_ylabel('Flame speed (m/s)')\n",
    "\n",
    "ax.set_title('Adiabatic premixed flame simulation for {} with {}'.format(up['fuel'],up['oxidizer']))\n",
    "\n",
    "# add legend\n",
    "leg = ax.legend(loc='lower right',#prop={'size':11},\n",
    "                title='Transport Model') # % mech)\n",
    "_ = leg.draw_frame(False) "
   ]
  },
  {
   "cell_type": "code",
   "execution_count": null,
   "metadata": {},
   "outputs": [],
   "source": [
    "phi"
   ]
  },
  {
   "cell_type": "code",
   "execution_count": null,
   "metadata": {},
   "outputs": [],
   "source": [
    "# create figure and adjust size\n",
    "fig, ax = plt.subplots(1)\n",
    "fig.set_size_inches(6.,6.)\n",
    "\n",
    "# plot results\n",
    "for i, key in enumerate(mix.keys()):\n",
    "    df = mix[key]\n",
    "    label = key.split('_')[1]\n",
    "    ax.plot(1000*df['grid'][:], df['T'][:], color=col[i % n_col], \n",
    "            linestyle='-', label=label) \n",
    "for i, key in enumerate(mlt.keys()):\n",
    "    df = mlt[key]\n",
    "    ax.plot(1000*df['grid'][:], df['T'][:], color=col[i % n_col], \n",
    "            linestyle=':', label=label) \n",
    "\n",
    "# add title/axis labels\n",
    "ax.set_xlabel('Position (mm)')\n",
    "ax.set_ylabel('Temperature (K)')\n",
    "\n",
    "# add legend\n",
    "leg = ax.legend(loc='lower right',#prop={'size':11},\n",
    "                title='Equivalence ratio', ncol=2) # % mech)\n",
    "_ = leg.draw_frame(False) "
   ]
  },
  {
   "cell_type": "code",
   "execution_count": null,
   "metadata": {},
   "outputs": [],
   "source": []
  }
 ],
 "metadata": {
  "kernelspec": {
   "display_name": "Python 3",
   "language": "python",
   "name": "python3"
  },
  "language_info": {
   "codemirror_mode": {
    "name": "ipython",
    "version": 3
   },
   "file_extension": ".py",
   "mimetype": "text/x-python",
   "name": "python",
   "nbconvert_exporter": "python",
   "pygments_lexer": "ipython3",
   "version": "3.7.9"
  }
 },
 "nbformat": 4,
 "nbformat_minor": 2
}
